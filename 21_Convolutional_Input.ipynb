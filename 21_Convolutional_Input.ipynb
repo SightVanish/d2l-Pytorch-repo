{
 "cells": [
  {
   "cell_type": "code",
   "execution_count": 23,
   "id": "176450b8",
   "metadata": {
    "ExecuteTime": {
     "end_time": "2021-11-07T10:25:23.297079Z",
     "start_time": "2021-11-07T10:25:23.294227Z"
    }
   },
   "outputs": [],
   "source": [
    "import torch\n",
    "from torch import nn\n",
    "from d2l import torch as d2l"
   ]
  },
  {
   "cell_type": "markdown",
   "id": "29b266f2",
   "metadata": {},
   "source": [
    "# Multi-channel (input/output)"
   ]
  },
  {
   "cell_type": "code",
   "execution_count": 24,
   "id": "039868aa",
   "metadata": {
    "ExecuteTime": {
     "end_time": "2021-11-07T10:25:24.024942Z",
     "start_time": "2021-11-07T10:25:24.021504Z"
    }
   },
   "outputs": [],
   "source": [
    "# the input is multi-channels\n",
    "def corr2d_multi_in(X, K):\n",
    "    return sum(d2l.corr2d(x,k) for x,k in zip(X,K))"
   ]
  },
  {
   "cell_type": "code",
   "execution_count": 29,
   "id": "5dc9af76",
   "metadata": {
    "ExecuteTime": {
     "end_time": "2021-11-07T10:25:45.008180Z",
     "start_time": "2021-11-07T10:25:44.999890Z"
    }
   },
   "outputs": [
    {
     "data": {
      "text/plain": [
       "torch.Size([2, 2])"
      ]
     },
     "execution_count": 29,
     "metadata": {},
     "output_type": "execute_result"
    }
   ],
   "source": [
    "# 2x3x3\n",
    "X = torch.tensor([[[0.0, 1.0, 2.0], [3.0, 4.0, 5.0], [6.0, 7.0, 8.0]],\n",
    "               [[1.0, 2.0, 3.0], [4.0, 5.0, 6.0], [7.0, 8.0, 9.0]]])\n",
    "# 2x2x2\n",
    "K = torch.tensor([[[0.0, 1.0], [2.0, 3.0]], [[1.0, 2.0], [3.0, 4.0]]])\n",
    "\n",
    "# 2x2\n",
    "corr2d_multi_in(X, K).shape"
   ]
  },
  {
   "cell_type": "code",
   "execution_count": 26,
   "id": "3689d1fd",
   "metadata": {
    "ExecuteTime": {
     "end_time": "2021-11-07T10:25:25.858749Z",
     "start_time": "2021-11-07T10:25:25.855329Z"
    }
   },
   "outputs": [],
   "source": [
    "# the input/output are multi-channels\n",
    "def corr2d_multi_in_out(X, K):\n",
    "    return torch.stack([corr2d_multi_in(X,k) for k in K], 0)"
   ]
  },
  {
   "cell_type": "code",
   "execution_count": 27,
   "id": "4fa4327b",
   "metadata": {
    "ExecuteTime": {
     "end_time": "2021-11-07T10:25:30.125233Z",
     "start_time": "2021-11-07T10:25:30.117488Z"
    }
   },
   "outputs": [
    {
     "data": {
      "text/plain": [
       "(torch.Size([3, 2, 2, 2]), torch.Size([3, 2, 2]))"
      ]
     },
     "execution_count": 27,
     "metadata": {},
     "output_type": "execute_result"
    }
   ],
   "source": [
    "# stack on axis=0\n",
    "K = torch.stack((K, K+1, K+2), 0)\n",
    "K.shape, corr2d_multi_in_out(X, K).shape"
   ]
  },
  {
   "cell_type": "markdown",
   "id": "843da78d",
   "metadata": {},
   "source": [
    "# 1x1 Kernel -- is same with full connected layer"
   ]
  },
  {
   "cell_type": "code",
   "execution_count": 30,
   "id": "2a071cd8",
   "metadata": {
    "ExecuteTime": {
     "end_time": "2021-11-07T10:30:29.972287Z",
     "start_time": "2021-11-07T10:30:29.967931Z"
    }
   },
   "outputs": [],
   "source": [
    "# 1x1 kernel as full connected layer\n",
    "def corr2d_multi_in_out_1x1(X, K):\n",
    "    c_i, h, w = X.shape\n",
    "    c_o = K.shape[0]\n",
    "    X = X.reshape(c_i, h*w)\n",
    "    K = K.reshape(c_o, c_i) # K.shape = (c_o, c_i, 1, 1)\n",
    "    Y = K @ X\n",
    "    return Y.reshape(c_o, h, w)"
   ]
  },
  {
   "cell_type": "code",
   "execution_count": 32,
   "id": "920233f5",
   "metadata": {
    "ExecuteTime": {
     "end_time": "2021-11-07T10:33:12.407963Z",
     "start_time": "2021-11-07T10:33:12.397536Z"
    }
   },
   "outputs": [],
   "source": [
    "X = torch.normal(0, 1, (3,3,3))\n",
    "K = torch.normal(0, 1, (2,3,1,1))\n",
    "\n",
    "Y1 = corr2d_multi_in_out_1x1(X, K)\n",
    "Y2 = corr2d_multi_in_out(X, K)\n",
    "# the results are same\n",
    "assert float(torch.abs(Y1-Y2).sum()) < 1e-6"
   ]
  },
  {
   "cell_type": "markdown",
   "id": "ddcf01d1",
   "metadata": {},
   "source": [
    "# Pytorch version"
   ]
  },
  {
   "cell_type": "code",
   "execution_count": null,
   "id": "85b1516b",
   "metadata": {},
   "outputs": [],
   "source": [
    "conv2d = nn.Conv2d(in)"
   ]
  }
 ],
 "metadata": {
  "kernelspec": {
   "display_name": "Python [conda env:pytorch] *",
   "language": "python",
   "name": "conda-env-pytorch-py"
  },
  "language_info": {
   "codemirror_mode": {
    "name": "ipython",
    "version": 3
   },
   "file_extension": ".py",
   "mimetype": "text/x-python",
   "name": "python",
   "nbconvert_exporter": "python",
   "pygments_lexer": "ipython3",
   "version": "3.9.7"
  }
 },
 "nbformat": 4,
 "nbformat_minor": 5
}
