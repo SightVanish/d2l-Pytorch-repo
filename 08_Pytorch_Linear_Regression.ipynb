{
 "cells": [
  {
   "cell_type": "code",
   "execution_count": 1,
   "id": "f4a466f6",
   "metadata": {},
   "outputs": [],
   "source": [
    "import numpy as np\n",
    "import torch\n",
    "from torch.utils import data\n",
    "from d2l import torch as d2l\n",
    "\n",
    "true_w = torch.tensor([2, -3.4])\n",
    "true_b = 4.2\n",
    "features, labels = d2l.synthetic_data(true_w, true_b, 1000)"
   ]
  },
  {
   "cell_type": "code",
   "execution_count": 2,
   "id": "b22cc4e4",
   "metadata": {
    "scrolled": true
   },
   "outputs": [
    {
     "data": {
      "text/plain": [
       "[tensor([[ 0.6660, -1.7403],\n",
       "         [-1.1903,  1.1892],\n",
       "         [ 1.2776, -1.3793],\n",
       "         [-1.0337,  0.3886],\n",
       "         [-0.1497, -0.0334],\n",
       "         [ 0.7379,  0.9467],\n",
       "         [ 0.0153, -0.9133],\n",
       "         [-0.6020,  2.5815],\n",
       "         [-0.5369, -0.4285],\n",
       "         [ 1.4481,  2.6418],\n",
       "         [ 0.8596, -1.4245],\n",
       "         [-0.6866,  0.3066],\n",
       "         [ 1.2121,  1.1290],\n",
       "         [-1.4052,  0.7785],\n",
       "         [ 0.7045, -0.5111],\n",
       "         [ 0.3772,  0.8698]]),\n",
       " tensor([[11.4454],\n",
       "         [-2.2295],\n",
       "         [11.4569],\n",
       "         [ 0.7966],\n",
       "         [ 4.0179],\n",
       "         [ 2.4548],\n",
       "         [ 7.3185],\n",
       "         [-5.7867],\n",
       "         [ 4.5799],\n",
       "         [-1.9015],\n",
       "         [10.7714],\n",
       "         [ 1.7920],\n",
       "         [ 2.7908],\n",
       "         [-1.2565],\n",
       "         [ 7.3478],\n",
       "         [ 2.0098]])]"
      ]
     },
     "execution_count": 2,
     "metadata": {},
     "output_type": "execute_result"
    }
   ],
   "source": [
    "def data_loader(data_array, batch_size, is_train=True):\n",
    "    dataset = data.TensorDataset(*data_array) # construct a dataset\n",
    "    return data.DataLoader(dataset, batch_size, shuffle=is_train)\n",
    "\n",
    "batch_size = 16\n",
    "data_iter = data_loader([features, labels], batch_size, True)\n",
    "\n",
    "next(iter(data_iter)) # turn data_iter to an iterator"
   ]
  },
  {
   "cell_type": "code",
   "execution_count": 3,
   "id": "b7e44d77",
   "metadata": {},
   "outputs": [],
   "source": [
    "from torch import nn\n",
    "\n",
    "model = nn.Sequential(nn.Linear(2,1))"
   ]
  },
  {
   "cell_type": "code",
   "execution_count": 4,
   "id": "004d30d0",
   "metadata": {},
   "outputs": [],
   "source": [
    "# init paramter data\n",
    "model[0].weight.data.normal_(0, 0.01) # init w\n",
    "model[0].bias.data.fill_(0); # init b"
   ]
  },
  {
   "cell_type": "code",
   "execution_count": 11,
   "id": "3187a317",
   "metadata": {},
   "outputs": [],
   "source": [
    "loss = nn.MSELoss()\n",
    "optimizer = torch.optim.SGD(model.parameters(), lr=0.1)"
   ]
  },
  {
   "cell_type": "code",
   "execution_count": 12,
   "id": "d4a52a23",
   "metadata": {},
   "outputs": [
    {
     "name": "stdout",
     "output_type": "stream",
     "text": [
      "epoch1, loss0.000101\n",
      "epoch2, loss0.000103\n",
      "epoch3, loss0.000103\n",
      "epoch4, loss0.000100\n",
      "epoch5, loss0.000102\n",
      "epoch6, loss0.000102\n",
      "epoch7, loss0.000100\n",
      "epoch8, loss0.000101\n"
     ]
    }
   ],
   "source": [
    "# train\n",
    "epochs=8\n",
    "for epoch in range(epochs):\n",
    "    for X, y in data_iter:\n",
    "        l = loss(model(X), y)\n",
    "        optimizer.zero_grad(); # clear gradient before backward\n",
    "        l.backward() # for SGD, pytorch will sum() the loss\n",
    "        optimizer.step() # update parameter\n",
    "    l=loss(model(features), labels)\n",
    "    print(f'epoch{epoch+1}, loss{l:f}')"
   ]
  },
  {
   "cell_type": "code",
   "execution_count": null,
   "id": "678c5f1d",
   "metadata": {},
   "outputs": [],
   "source": []
  }
 ],
 "metadata": {
  "kernelspec": {
   "display_name": "Python 3 (ipykernel)",
   "language": "python",
   "name": "python3"
  },
  "language_info": {
   "codemirror_mode": {
    "name": "ipython",
    "version": 3
   },
   "file_extension": ".py",
   "mimetype": "text/x-python",
   "name": "python",
   "nbconvert_exporter": "python",
   "pygments_lexer": "ipython3",
   "version": "3.9.7"
  }
 },
 "nbformat": 4,
 "nbformat_minor": 5
}
