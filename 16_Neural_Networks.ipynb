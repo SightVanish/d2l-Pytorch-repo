{
 "cells": [
  {
   "cell_type": "markdown",
   "id": "8907e0c6",
   "metadata": {},
   "source": [
    "# Module"
   ]
  },
  {
   "cell_type": "code",
   "execution_count": 8,
   "id": "1b4c99f8",
   "metadata": {
    "ExecuteTime": {
     "end_time": "2021-11-04T05:15:57.653013Z",
     "start_time": "2021-11-04T05:15:57.639617Z"
    }
   },
   "outputs": [
    {
     "data": {
      "text/plain": [
       "(tensor([[-0.0856, -0.1357,  0.1590, -0.0049, -0.1928, -0.0939, -0.0392,  0.1506,\n",
       "          -0.0701,  0.2404],\n",
       "         [-0.0720, -0.0962, -0.0313, -0.0150, -0.2179, -0.0643,  0.0457,  0.1516,\n",
       "          -0.0656,  0.2112]], grad_fn=<AddmmBackward>),\n",
       " torch.Size([2, 10]))"
      ]
     },
     "execution_count": 8,
     "metadata": {},
     "output_type": "execute_result"
    }
   ],
   "source": [
    "import torch\n",
    "from torch import nn\n",
    "from torch.nn import functional as F\n",
    "\n",
    "net = nn.Sequential(nn.Linear(20, 256), nn.ReLU(), nn.Linear(256, 10))\n",
    "\n",
    "X = torch.rand(2, 20)\n",
    "net(X), net(X).shape"
   ]
  },
  {
   "cell_type": "markdown",
   "id": "07664cc1",
   "metadata": {},
   "source": [
    "## Any layer/net should be a subclass of Module"
   ]
  },
  {
   "cell_type": "code",
   "execution_count": 42,
   "id": "081febf3",
   "metadata": {
    "ExecuteTime": {
     "end_time": "2021-11-04T05:32:33.918280Z",
     "start_time": "2021-11-04T05:32:33.908769Z"
    }
   },
   "outputs": [
    {
     "data": {
      "text/plain": [
       "tensor([[-0.0517, -0.2053, -0.0593,  0.1088, -0.2596,  0.2546, -0.1927, -0.0061,\n",
       "         -0.2509, -0.1236],\n",
       "        [ 0.0471, -0.2188,  0.0428, -0.0531, -0.1412,  0.3329, -0.0547, -0.1892,\n",
       "         -0.1327, -0.0535]], grad_fn=<AddmmBackward>)"
      ]
     },
     "execution_count": 42,
     "metadata": {},
     "output_type": "execute_result"
    }
   ],
   "source": [
    "class MLP(nn.Module):\n",
    "    def __init__(self):\n",
    "        super().__init__() # it keeps all the things in Module\n",
    "        self.hidden = nn.Linear(20, 256)\n",
    "        self.out = nn.Linear(256, 10)\n",
    "    def forward(self, X):\n",
    "        return self.out(F.relu(self.hidden(X))) # F.relu() here--it is a function. nn.ReLU() is a module\n",
    "    \n",
    "net = MLP()\n",
    "net(X)"
   ]
  },
  {
   "cell_type": "code",
   "execution_count": 19,
   "id": "cdc086d2",
   "metadata": {
    "ExecuteTime": {
     "end_time": "2021-11-04T05:22:55.946962Z",
     "start_time": "2021-11-04T05:22:55.935241Z"
    }
   },
   "outputs": [
    {
     "data": {
      "text/plain": [
       "tensor([[-0.1875, -0.1561, -0.0659,  0.1539,  0.0518, -0.0928,  0.1218, -0.0006,\n",
       "         -0.1771, -0.0855],\n",
       "        [-0.2251, -0.1038, -0.0866,  0.0690, -0.0109, -0.1189,  0.0580, -0.0686,\n",
       "         -0.2471,  0.0243]], grad_fn=<AddmmBackward>)"
      ]
     },
     "execution_count": 19,
     "metadata": {},
     "output_type": "execute_result"
    }
   ],
   "source": [
    "class MySequential(nn.Module):\n",
    "    def __init__(self, *args):\n",
    "        super().__init__()\n",
    "        for block in args:\n",
    "            # adding each layer to self._module\n",
    "            # self.modules is not assignable, use self._modules instead\n",
    "            self._modules[block] = block\n",
    "    def forward(self, X):\n",
    "        # do not forget '.values()'\n",
    "        for block in self._modules.values():\n",
    "            X = block(X)\n",
    "        return X\n",
    "    \n",
    "net = MySequential(nn.Linear(20, 256), nn.ReLU(), nn.Linear(256, 10))\n",
    "net(X)"
   ]
  },
  {
   "cell_type": "markdown",
   "id": "3a220a2e",
   "metadata": {},
   "source": [
    "## Customize your own module--__init__ and forward\n",
    "You do not need to customize backward function"
   ]
  },
  {
   "cell_type": "code",
   "execution_count": 41,
   "id": "cc8d7613",
   "metadata": {
    "ExecuteTime": {
     "end_time": "2021-11-04T05:29:53.183351Z",
     "start_time": "2021-11-04T05:29:53.172682Z"
    }
   },
   "outputs": [
    {
     "data": {
      "text/plain": [
       "tensor(0.2035, grad_fn=<SumBackward0>)"
      ]
     },
     "execution_count": 41,
     "metadata": {},
     "output_type": "execute_result"
    }
   ],
   "source": [
    "class FixedHiddenMLP(nn.Module):\n",
    "    def __init__(self):\n",
    "        super().__init__()\n",
    "        self.rand_weight = torch.rand((20, 20), requires_grad=False)\n",
    "        self.linear = nn.Linear(20, 20)\n",
    "    def forward(self, X):\n",
    "        X = self.linear(X)\n",
    "        X = F.relu(X@self.rand_weight + 1) # 1 is bias\n",
    "        X = self.linear(X)\n",
    "        while X.abs().sum() > 1:\n",
    "            X /= 2\n",
    "        return X.sum()\n",
    "    \n",
    "net = FixedHiddenMLP()\n",
    "net(X)"
   ]
  },
  {
   "cell_type": "code",
   "execution_count": 43,
   "id": "f7fb834c",
   "metadata": {
    "ExecuteTime": {
     "end_time": "2021-11-04T05:34:52.126759Z",
     "start_time": "2021-11-04T05:34:52.114825Z"
    }
   },
   "outputs": [
    {
     "data": {
      "text/plain": [
       "tensor(0.3197, grad_fn=<SumBackward0>)"
      ]
     },
     "execution_count": 43,
     "metadata": {},
     "output_type": "execute_result"
    }
   ],
   "source": [
    "class NestMLP(nn.Module):\n",
    "    def __init__(self):\n",
    "        super().__init__()\n",
    "        self.net = nn.Sequential(nn.Linear(20, 64), nn.ReLU(), nn.Linear(64, 32), nn.ReLU())\n",
    "        self.linear = nn.Linear(32, 16)\n",
    "    def forward(self, X):\n",
    "        return self.linear(self.net(X))\n",
    "    \n",
    "chimera = nn.Sequential(NestMLP(), nn.Linear(16, 20), FixedHiddenMLP())\n",
    "chimera(X)"
   ]
  },
  {
   "cell_type": "markdown",
   "id": "5a40d462",
   "metadata": {},
   "source": [
    "## Customize your own layer"
   ]
  },
  {
   "cell_type": "code",
   "execution_count": 118,
   "id": "f409ab9c",
   "metadata": {
    "ExecuteTime": {
     "end_time": "2021-11-04T06:18:25.515879Z",
     "start_time": "2021-11-04T06:18:25.508307Z"
    }
   },
   "outputs": [
    {
     "data": {
      "text/plain": [
       "tensor([-2., -1.,  0.,  1.,  2.])"
      ]
     },
     "execution_count": 118,
     "metadata": {},
     "output_type": "execute_result"
    }
   ],
   "source": [
    "class CenteredLayer(nn.Module):\n",
    "    def __init__(self):\n",
    "        super().__init__()\n",
    "    def forward(self, X):\n",
    "        return X-X.mean()\n",
    "layer = CenteredLayer()\n",
    "layer(torch.FloatTensor([1,2,3,4,5]))"
   ]
  },
  {
   "cell_type": "code",
   "execution_count": 122,
   "id": "1b50cc4f",
   "metadata": {
    "ExecuteTime": {
     "end_time": "2021-11-04T06:21:48.080317Z",
     "start_time": "2021-11-04T06:21:48.069862Z"
    }
   },
   "outputs": [
    {
     "data": {
      "text/plain": [
       "tensor(6.5193e-09, grad_fn=<MeanBackward0>)"
      ]
     },
     "execution_count": 122,
     "metadata": {},
     "output_type": "execute_result"
    }
   ],
   "source": [
    "net = nn.Sequential(nn.Linear(8, 128), CenteredLayer())\n",
    "\n",
    "Y = net(torch.rand(4, 8))\n",
    "Y.mean() # =0"
   ]
  },
  {
   "cell_type": "markdown",
   "id": "3d07aa21",
   "metadata": {},
   "source": [
    "### customize parameters in your own layer"
   ]
  },
  {
   "cell_type": "code",
   "execution_count": 124,
   "id": "3a80102e",
   "metadata": {
    "ExecuteTime": {
     "end_time": "2021-11-04T06:24:42.947850Z",
     "start_time": "2021-11-04T06:24:42.938059Z"
    }
   },
   "outputs": [
    {
     "data": {
      "text/plain": [
       "(Parameter containing:\n",
       " tensor([[-0.3247,  1.4145, -0.6740],\n",
       "         [ 0.5044, -0.6385, -1.0057],\n",
       "         [ 0.6626, -0.8953,  1.1407],\n",
       "         [ 0.0283, -0.9799,  0.5313],\n",
       "         [-0.2233,  0.9526,  0.3469]], requires_grad=True),\n",
       " Parameter containing:\n",
       " tensor([-0.5914,  0.7070, -0.0969], requires_grad=True))"
      ]
     },
     "execution_count": 124,
     "metadata": {},
     "output_type": "execute_result"
    }
   ],
   "source": [
    "class MyLinear(nn.Module):\n",
    "    def __init__(self, in_units, units):\n",
    "        super().__init__()\n",
    "        # all parameters are nn.Parameter\n",
    "        self.weight = nn.Parameter(torch.randn(in_units, units))\n",
    "        self.bias = nn.Parameter(torch.randn(units,))\n",
    "    def forward(self, X):\n",
    "        linear = X@self.weight.data + self.bias.data\n",
    "        return F.relu(linear)\n",
    "dense = MyLinear(5,3)\n",
    "dense.weight, dense.bias"
   ]
  },
  {
   "cell_type": "code",
   "execution_count": 125,
   "id": "271fbc2d",
   "metadata": {
    "ExecuteTime": {
     "end_time": "2021-11-04T06:26:46.936379Z",
     "start_time": "2021-11-04T06:26:46.929950Z"
    }
   },
   "outputs": [
    {
     "data": {
      "text/plain": [
       "tensor([[0.0000, 0.5470, 0.1752],\n",
       "        [0.0000, 1.5496, 0.0000]])"
      ]
     },
     "execution_count": 125,
     "metadata": {},
     "output_type": "execute_result"
    }
   ],
   "source": [
    "dense(torch.rand(2,5))"
   ]
  },
  {
   "cell_type": "code",
   "execution_count": 126,
   "id": "69450998",
   "metadata": {
    "ExecuteTime": {
     "end_time": "2021-11-04T06:27:31.660380Z",
     "start_time": "2021-11-04T06:27:31.653991Z"
    }
   },
   "outputs": [
    {
     "data": {
      "text/plain": [
       "tensor([[12.1911],\n",
       "        [ 6.8850]])"
      ]
     },
     "execution_count": 126,
     "metadata": {},
     "output_type": "execute_result"
    }
   ],
   "source": [
    "net = MySequential(MyLinear(64,8), MyLinear(8,1))\n",
    "net(torch.rand(2, 64))"
   ]
  },
  {
   "cell_type": "markdown",
   "id": "05e9a6ac",
   "metadata": {},
   "source": [
    "# Parameters in net"
   ]
  },
  {
   "cell_type": "code",
   "execution_count": 45,
   "id": "7c1850b9",
   "metadata": {
    "ExecuteTime": {
     "end_time": "2021-11-04T05:46:20.563965Z",
     "start_time": "2021-11-04T05:46:20.557208Z"
    }
   },
   "outputs": [
    {
     "data": {
      "text/plain": [
       "tensor([[-0.4092],\n",
       "        [-0.3267]], grad_fn=<AddmmBackward>)"
      ]
     },
     "execution_count": 45,
     "metadata": {},
     "output_type": "execute_result"
    }
   ],
   "source": [
    "X = torch.rand(size=(2,4))\n",
    "\n",
    "net = nn.Sequential(nn.Linear(4, 8), nn.ReLU(), nn.Linear(8, 1))\n",
    "net(X)"
   ]
  },
  {
   "cell_type": "markdown",
   "id": "5736c315",
   "metadata": {},
   "source": [
    "## Print parameters"
   ]
  },
  {
   "cell_type": "markdown",
   "id": "0d16b811",
   "metadata": {},
   "source": [
    "### print paramters in a layer"
   ]
  },
  {
   "cell_type": "code",
   "execution_count": 64,
   "id": "eb75fd5e",
   "metadata": {
    "ExecuteTime": {
     "end_time": "2021-11-04T05:49:49.637698Z",
     "start_time": "2021-11-04T05:49:49.632589Z"
    }
   },
   "outputs": [
    {
     "data": {
      "text/plain": [
       "OrderedDict([('weight',\n",
       "              tensor([[-0.0213, -0.0227,  0.3455, -0.1031, -0.2657,  0.1896,  0.1500,  0.3076]])),\n",
       "             ('bias', tensor([-0.2987]))])"
      ]
     },
     "execution_count": 64,
     "metadata": {},
     "output_type": "execute_result"
    }
   ],
   "source": [
    "# net[0].state_dict()\n",
    "net[2].state_dict()"
   ]
  },
  {
   "cell_type": "markdown",
   "id": "9db8ff64",
   "metadata": {},
   "source": [
    "### print single parameters"
   ]
  },
  {
   "cell_type": "code",
   "execution_count": 72,
   "id": "116f4ab2",
   "metadata": {
    "ExecuteTime": {
     "end_time": "2021-11-04T05:51:43.285556Z",
     "start_time": "2021-11-04T05:51:43.279621Z"
    }
   },
   "outputs": [
    {
     "name": "stdout",
     "output_type": "stream",
     "text": [
      "<class 'torch.nn.parameter.Parameter'>\n",
      "Parameter containing:\n",
      "tensor([-0.2987], requires_grad=True)\n",
      "tensor([-0.2987])\n",
      "None\n"
     ]
    }
   ],
   "source": [
    "print(type(net[2].bias))\n",
    "print(net[2].bias)\n",
    "print(net[2].bias.data) # it is a tensor\n",
    "print(net[2].bias.grad) # it is the gradience"
   ]
  },
  {
   "cell_type": "markdown",
   "id": "65cebaf3",
   "metadata": {},
   "source": [
    "### print all parameter"
   ]
  },
  {
   "cell_type": "code",
   "execution_count": 88,
   "id": "75b209ef",
   "metadata": {
    "ExecuteTime": {
     "end_time": "2021-11-04T05:56:14.657305Z",
     "start_time": "2021-11-04T05:56:14.652677Z"
    }
   },
   "outputs": [
    {
     "name": "stdout",
     "output_type": "stream",
     "text": [
      "('weight', torch.Size([8, 4])) ('bias', torch.Size([8]))\n",
      "('0.weight', torch.Size([8, 4])) ('0.bias', torch.Size([8])) ('2.weight', torch.Size([1, 8])) ('2.bias', torch.Size([1]))\n"
     ]
    }
   ],
   "source": [
    "print(*[(name, param.shape) for name, param in net[0].named_parameters()])\n",
    "print(*[(name, param.shape) for name, param in net.named_parameters()])\n",
    "# there is no 1. -- because it is ReLU"
   ]
  },
  {
   "cell_type": "code",
   "execution_count": 89,
   "id": "d69fa5cd",
   "metadata": {
    "ExecuteTime": {
     "end_time": "2021-11-04T05:56:15.721843Z",
     "start_time": "2021-11-04T05:56:15.716489Z"
    }
   },
   "outputs": [
    {
     "data": {
      "text/plain": [
       "tensor([-0.2987])"
      ]
     },
     "execution_count": 89,
     "metadata": {},
     "output_type": "execute_result"
    }
   ],
   "source": [
    "# you can access to a single parameter via it name\n",
    "net.state_dict()['2.bias']"
   ]
  },
  {
   "cell_type": "markdown",
   "id": "1afd9a7f",
   "metadata": {},
   "source": [
    "### nested-block "
   ]
  },
  {
   "cell_type": "code",
   "execution_count": 98,
   "id": "3d668fe2",
   "metadata": {
    "ExecuteTime": {
     "end_time": "2021-11-04T05:59:53.051801Z",
     "start_time": "2021-11-04T05:59:53.042590Z"
    }
   },
   "outputs": [
    {
     "data": {
      "text/plain": [
       "tensor([[-0.2640],\n",
       "        [-0.2642]], grad_fn=<AddmmBackward>)"
      ]
     },
     "execution_count": 98,
     "metadata": {},
     "output_type": "execute_result"
    }
   ],
   "source": [
    "def block1():\n",
    "    return nn.Sequential(nn.Linear(4, 8), nn.ReLU(), nn.Linear(8, 4), nn.ReLU())\n",
    "def block2():\n",
    "    net = nn.Sequential()\n",
    "    for i in range(4):\n",
    "        net.add_module(f'block{i}', block1()) # customize the name of module\n",
    "    return net\n",
    "\n",
    "rgnet = nn.Sequential(block2(), nn.Linear(4,1))\n",
    "rgnet(X)"
   ]
  },
  {
   "cell_type": "code",
   "execution_count": 100,
   "id": "61c33969",
   "metadata": {
    "ExecuteTime": {
     "end_time": "2021-11-04T05:59:58.440059Z",
     "start_time": "2021-11-04T05:59:58.435724Z"
    }
   },
   "outputs": [
    {
     "data": {
      "text/plain": [
       "Sequential(\n",
       "  (0): Sequential(\n",
       "    (block0): Sequential(\n",
       "      (0): Linear(in_features=4, out_features=8, bias=True)\n",
       "      (1): ReLU()\n",
       "      (2): Linear(in_features=8, out_features=4, bias=True)\n",
       "      (3): ReLU()\n",
       "    )\n",
       "    (block1): Sequential(\n",
       "      (0): Linear(in_features=4, out_features=8, bias=True)\n",
       "      (1): ReLU()\n",
       "      (2): Linear(in_features=8, out_features=4, bias=True)\n",
       "      (3): ReLU()\n",
       "    )\n",
       "    (block2): Sequential(\n",
       "      (0): Linear(in_features=4, out_features=8, bias=True)\n",
       "      (1): ReLU()\n",
       "      (2): Linear(in_features=8, out_features=4, bias=True)\n",
       "      (3): ReLU()\n",
       "    )\n",
       "    (block3): Sequential(\n",
       "      (0): Linear(in_features=4, out_features=8, bias=True)\n",
       "      (1): ReLU()\n",
       "      (2): Linear(in_features=8, out_features=4, bias=True)\n",
       "      (3): ReLU()\n",
       "    )\n",
       "  )\n",
       "  (1): Linear(in_features=4, out_features=1, bias=True)\n",
       ")"
      ]
     },
     "execution_count": 100,
     "metadata": {},
     "output_type": "execute_result"
    }
   ],
   "source": [
    "rgnet"
   ]
  },
  {
   "cell_type": "markdown",
   "id": "7af6e339",
   "metadata": {},
   "source": [
    "## Init parameters"
   ]
  },
  {
   "cell_type": "code",
   "execution_count": 107,
   "id": "81855ce8",
   "metadata": {
    "ExecuteTime": {
     "end_time": "2021-11-04T06:04:30.042447Z",
     "start_time": "2021-11-04T06:04:30.034116Z"
    }
   },
   "outputs": [
    {
     "data": {
      "text/plain": [
       "(tensor([ 0.0031, -0.0029,  0.0080, -0.0158]), tensor(0.))"
      ]
     },
     "execution_count": 107,
     "metadata": {},
     "output_type": "execute_result"
    }
   ],
   "source": [
    "def init_normal(m):\n",
    "    if type(m)==nn.Linear:\n",
    "        nn.init.normal_(m.weight, mean=0, std=0.01)\n",
    "        nn.init.zeros_(m.bias)\n",
    "# apply--apply function to all modules\n",
    "net.apply(init_normal)\n",
    "net[0].weight.data[0], net[0].bias.data[0]"
   ]
  },
  {
   "cell_type": "code",
   "execution_count": 108,
   "id": "62a17b50",
   "metadata": {
    "ExecuteTime": {
     "end_time": "2021-11-04T06:04:30.754968Z",
     "start_time": "2021-11-04T06:04:30.748129Z"
    }
   },
   "outputs": [
    {
     "data": {
      "text/plain": [
       "(tensor([1., 1., 1., 1.]), tensor(0.))"
      ]
     },
     "execution_count": 108,
     "metadata": {},
     "output_type": "execute_result"
    }
   ],
   "source": [
    "def init_constant(m):\n",
    "    if type(m)==nn.Linear:\n",
    "        nn.init.constant_(m.weight, 1)\n",
    "        nn.init.zeros_(m.bias)\n",
    "        \n",
    "net.apply(init_constant)\n",
    "net[0].weight.data[0], net[0].bias.data[0]"
   ]
  },
  {
   "cell_type": "code",
   "execution_count": 112,
   "id": "05ee48e9",
   "metadata": {
    "ExecuteTime": {
     "end_time": "2021-11-04T06:11:26.982047Z",
     "start_time": "2021-11-04T06:11:26.973044Z"
    }
   },
   "outputs": [
    {
     "name": "stdout",
     "output_type": "stream",
     "text": [
      "tensor([ 0.1998, -0.6266,  0.3427,  0.3944])\n",
      "tensor([42., 42., 42., 42., 42., 42., 42., 42.])\n"
     ]
    }
   ],
   "source": [
    "def xavier(m):\n",
    "    if type(m)==nn.Linear:\n",
    "        nn.init.xavier_uniform_(m.weight)\n",
    "def init_42(m):\n",
    "    if type(m)==nn.Linear:\n",
    "        nn.init.constant_(m.weight, 42)\n",
    "\n",
    "net[0].apply(xavier)\n",
    "net[2].apply(init_42)\n",
    "print(net[0].weight.data[0])\n",
    "print(net[2].weight.data[0])"
   ]
  },
  {
   "cell_type": "code",
   "execution_count": 113,
   "id": "135e7389",
   "metadata": {
    "ExecuteTime": {
     "end_time": "2021-11-04T06:11:27.893141Z",
     "start_time": "2021-11-04T06:11:27.885859Z"
    }
   },
   "outputs": [
    {
     "name": "stdout",
     "output_type": "stream",
     "text": [
      "tensor([ 0.1998, -0.6266,  0.3427,  0.3944])\n"
     ]
    },
    {
     "data": {
      "text/plain": [
       "tensor([42.0000,  0.3734,  1.3427,  1.3944])"
      ]
     },
     "execution_count": 113,
     "metadata": {},
     "output_type": "execute_result"
    }
   ],
   "source": [
    "print(net[0].weight.data[0])\n",
    "net[0].weight.data[:] += 1\n",
    "net[0].weight.data[0,0] = 42\n",
    "net[0].weight.data[0]"
   ]
  },
  {
   "cell_type": "markdown",
   "id": "6893df62",
   "metadata": {},
   "source": [
    "### Share parameters between layers"
   ]
  },
  {
   "cell_type": "code",
   "execution_count": 115,
   "id": "a05a5321",
   "metadata": {
    "ExecuteTime": {
     "end_time": "2021-11-04T06:14:10.111923Z",
     "start_time": "2021-11-04T06:14:10.104332Z"
    }
   },
   "outputs": [
    {
     "name": "stdout",
     "output_type": "stream",
     "text": [
      "tensor([True, True, True, True, True, True, True, True])\n",
      "tensor([True, True, True, True, True, True, True, True])\n"
     ]
    }
   ],
   "source": [
    "# shared layers must be init outside\n",
    "shared = nn.Linear(8, 8)\n",
    "net = nn.Sequential(nn.Linear(4, 8), nn.ReLU(), shared, nn.ReLU(), shared, nn.ReLU(), nn.Linear(8, 1))\n",
    "net(X)\n",
    "print(net[2].weight.data[0] == net[4].weight.data[0])\n",
    "net[2].weight.data[0, 0] = 1000\n",
    "print(net[2].weight.data[0] == net[4].weight.data[0])"
   ]
  },
  {
   "cell_type": "markdown",
   "id": "3b9ff8f2",
   "metadata": {},
   "source": [
    "# Read/Write"
   ]
  },
  {
   "cell_type": "markdown",
   "id": "faa45d38",
   "metadata": {},
   "source": [
    "## Save tensor"
   ]
  },
  {
   "cell_type": "code",
   "execution_count": 127,
   "id": "96612918",
   "metadata": {
    "ExecuteTime": {
     "end_time": "2021-11-04T06:28:54.804878Z",
     "start_time": "2021-11-04T06:28:54.797334Z"
    }
   },
   "outputs": [
    {
     "data": {
      "text/plain": [
       "tensor([0, 1, 2, 3])"
      ]
     },
     "execution_count": 127,
     "metadata": {},
     "output_type": "execute_result"
    }
   ],
   "source": [
    "x = torch.arange(4)\n",
    "torch.save(x, 'x-file')\n",
    "\n",
    "x2 = torch.load('x-file')\n",
    "x2"
   ]
  },
  {
   "cell_type": "code",
   "execution_count": 129,
   "id": "92a09fd5",
   "metadata": {
    "ExecuteTime": {
     "end_time": "2021-11-04T06:31:37.966271Z",
     "start_time": "2021-11-04T06:31:37.959177Z"
    }
   },
   "outputs": [
    {
     "data": {
      "text/plain": [
       "(tensor([0, 1, 2, 3]), tensor([0., 0., 0., 0.]))"
      ]
     },
     "execution_count": 129,
     "metadata": {},
     "output_type": "execute_result"
    }
   ],
   "source": [
    "# save as a list\n",
    "y = torch.zeros(4)\n",
    "torch.save([x, y], 'xy-file')\n",
    "\n",
    "x2, y2 = torch.load('xy-file')\n",
    "x2, y2"
   ]
  },
  {
   "cell_type": "code",
   "execution_count": 132,
   "id": "f5065dff",
   "metadata": {
    "ExecuteTime": {
     "end_time": "2021-11-04T06:32:55.525194Z",
     "start_time": "2021-11-04T06:32:55.518127Z"
    }
   },
   "outputs": [
    {
     "data": {
      "text/plain": [
       "({'x': tensor([0, 1, 2, 3]), 'y': tensor([0., 0., 0., 0.])},\n",
       " tensor([0, 1, 2, 3]))"
      ]
     },
     "execution_count": 132,
     "metadata": {},
     "output_type": "execute_result"
    }
   ],
   "source": [
    "# save as a dict\n",
    "mydict = {'x':x, 'y':y}\n",
    "torch.save(mydict, 'xy-file')\n",
    "\n",
    "mydict2 = torch.load('xy-file')\n",
    "mydict2, mydict2['x']"
   ]
  },
  {
   "cell_type": "markdown",
   "id": "eddd0079",
   "metadata": {},
   "source": [
    "## Save model"
   ]
  },
  {
   "cell_type": "code",
   "execution_count": 136,
   "id": "9c846784",
   "metadata": {
    "ExecuteTime": {
     "end_time": "2021-11-04T06:36:04.327073Z",
     "start_time": "2021-11-04T06:36:04.316433Z"
    }
   },
   "outputs": [
    {
     "data": {
      "text/plain": [
       "tensor([[-0.1014,  0.0279,  0.2560,  0.0087, -0.1491, -0.3087,  0.0819,  0.0854,\n",
       "         -0.0837,  0.1556],\n",
       "        [-0.1009,  0.0230,  0.2841, -0.1624, -0.0508, -0.2481,  0.1552,  0.0653,\n",
       "          0.2642,  0.2398]], grad_fn=<AddmmBackward>)"
      ]
     },
     "execution_count": 136,
     "metadata": {},
     "output_type": "execute_result"
    }
   ],
   "source": [
    "class MLP(nn.Module):\n",
    "    def __init__(self):\n",
    "        super().__init__()\n",
    "        self.hidden = nn.Linear(20, 256)\n",
    "        self.output = nn.Linear(256, 10)\n",
    "    def forward(self, x):\n",
    "        return self.output(F.relu(self.hidden(x)))\n",
    "    \n",
    "net = MLP()\n",
    "X = torch.randn(2,20)\n",
    "Y = net(X)\n",
    "Y"
   ]
  },
  {
   "cell_type": "code",
   "execution_count": 137,
   "id": "60258e32",
   "metadata": {
    "ExecuteTime": {
     "end_time": "2021-11-04T06:36:25.115491Z",
     "start_time": "2021-11-04T06:36:25.111326Z"
    }
   },
   "outputs": [],
   "source": [
    "torch.save(net.state_dict(), 'mlp.params')"
   ]
  },
  {
   "cell_type": "code",
   "execution_count": 141,
   "id": "ac161454",
   "metadata": {
    "ExecuteTime": {
     "end_time": "2021-11-04T06:37:32.557027Z",
     "start_time": "2021-11-04T06:37:32.550697Z"
    }
   },
   "outputs": [
    {
     "data": {
      "text/plain": [
       "MLP(\n",
       "  (hidden): Linear(in_features=20, out_features=256, bias=True)\n",
       "  (output): Linear(in_features=256, out_features=10, bias=True)\n",
       ")"
      ]
     },
     "execution_count": 141,
     "metadata": {},
     "output_type": "execute_result"
    }
   ],
   "source": [
    "clone = MLP()\n",
    "clone.load_state_dict(torch.load('mlp.params'))\n",
    "clone.eval()"
   ]
  },
  {
   "cell_type": "code",
   "execution_count": null,
   "id": "e3350d75",
   "metadata": {},
   "outputs": [],
   "source": []
  },
  {
   "cell_type": "code",
   "execution_count": null,
   "id": "cf625d04",
   "metadata": {},
   "outputs": [],
   "source": []
  }
 ],
 "metadata": {
  "kernelspec": {
   "display_name": "Python [conda env:pytorch] *",
   "language": "python",
   "name": "conda-env-pytorch-py"
  },
  "language_info": {
   "codemirror_mode": {
    "name": "ipython",
    "version": 3
   },
   "file_extension": ".py",
   "mimetype": "text/x-python",
   "name": "python",
   "nbconvert_exporter": "python",
   "pygments_lexer": "ipython3",
   "version": "3.9.7"
  }
 },
 "nbformat": 4,
 "nbformat_minor": 5
}
