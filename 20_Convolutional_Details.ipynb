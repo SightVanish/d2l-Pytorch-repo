{
 "cells": [
  {
   "cell_type": "code",
   "execution_count": 1,
   "id": "3ad919d7",
   "metadata": {
    "ExecuteTime": {
     "end_time": "2021-11-07T09:20:14.772370Z",
     "start_time": "2021-11-07T09:20:13.923401Z"
    }
   },
   "outputs": [],
   "source": [
    "import torch\n",
    "from torch import  nn\n",
    "from d2l import torch as d2l"
   ]
  },
  {
   "cell_type": "code",
   "execution_count": 3,
   "id": "6580bd8c",
   "metadata": {
    "ExecuteTime": {
     "end_time": "2021-11-07T09:32:48.237814Z",
     "start_time": "2021-11-07T09:32:48.233960Z"
    }
   },
   "outputs": [],
   "source": [
    "def comp_conv2d(conv2d, X):\n",
    "    X = X.reshape((1,1) + X.shape) # 1: batch_size, 1: channel\n",
    "    Y = conv2d(X)\n",
    "    return Y.reshape(Y.shape[2:]) # remove (1,1)"
   ]
  },
  {
   "cell_type": "code",
   "execution_count": 4,
   "id": "4e9a00ac",
   "metadata": {
    "ExecuteTime": {
     "end_time": "2021-11-07T09:32:50.283288Z",
     "start_time": "2021-11-07T09:32:50.254137Z"
    }
   },
   "outputs": [
    {
     "data": {
      "text/plain": [
       "torch.Size([8, 8])"
      ]
     },
     "execution_count": 4,
     "metadata": {},
     "output_type": "execute_result"
    }
   ],
   "source": [
    "conv2d = nn.Conv2d(1,1, kernel_size=3, padding=1)\n",
    "X = torch.rand(size=(8,8))\n",
    "comp_conv2d(conv2d, X).shape"
   ]
  },
  {
   "cell_type": "code",
   "execution_count": 5,
   "id": "26d3f957",
   "metadata": {
    "ExecuteTime": {
     "end_time": "2021-11-07T09:33:55.541076Z",
     "start_time": "2021-11-07T09:33:55.534712Z"
    }
   },
   "outputs": [
    {
     "data": {
      "text/plain": [
       "torch.Size([8, 8])"
      ]
     },
     "execution_count": 5,
     "metadata": {},
     "output_type": "execute_result"
    }
   ],
   "source": [
    "conv2d = nn.Conv2d(1,1, kernel_size=(5,3), padding=(2,1))\n",
    "comp_conv2d(conv2d, X).shape"
   ]
  },
  {
   "cell_type": "code",
   "execution_count": null,
   "id": "dded5d49",
   "metadata": {},
   "outputs": [],
   "source": [
    "conv2d = nn.Conv2d(1,1, kernel_size=(5,3), padding=(2,1))\n",
    "comp_conv2d(conv2d, X).shape"
   ]
  }
 ],
 "metadata": {
  "kernelspec": {
   "display_name": "Python [conda env:pytorch] *",
   "language": "python",
   "name": "conda-env-pytorch-py"
  },
  "language_info": {
   "codemirror_mode": {
    "name": "ipython",
    "version": 3
   },
   "file_extension": ".py",
   "mimetype": "text/x-python",
   "name": "python",
   "nbconvert_exporter": "python",
   "pygments_lexer": "ipython3",
   "version": "3.9.7"
  }
 },
 "nbformat": 4,
 "nbformat_minor": 5
}
