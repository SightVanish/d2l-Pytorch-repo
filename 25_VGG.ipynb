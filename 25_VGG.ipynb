{
 "cells": [
  {
   "cell_type": "code",
   "execution_count": 1,
   "id": "7cf8fd92",
   "metadata": {
    "ExecuteTime": {
     "end_time": "2021-11-09T16:32:44.792228Z",
     "start_time": "2021-11-09T16:32:43.492867Z"
    }
   },
   "outputs": [],
   "source": [
    "import torch\n",
    "from torch import nn\n",
    "from d2l import torch as d2l"
   ]
  },
  {
   "cell_type": "code",
   "execution_count": 3,
   "id": "2c15e144",
   "metadata": {
    "ExecuteTime": {
     "end_time": "2021-11-09T16:36:11.175209Z",
     "start_time": "2021-11-09T16:36:11.170484Z"
    }
   },
   "outputs": [],
   "source": [
    "def vgg_block(num_convs, in_channels, out_channels):\n",
    "    layers = []\n",
    "    for _ in range(num_convs):\n",
    "        layers.append(nn.Conv2d(in_channels, out_channels, kernel_size=3, padding=1))\n",
    "        layers.append(nn.ReLU())\n",
    "        in_channels = out_channels # prepare for next layer\n",
    "    layers.append(nn.MaxPool2d(kernel_size=2, stride=2))\n",
    "    return nn.Sequential(*layers) # pass layers to nn.Sequential"
   ]
  },
  {
   "cell_type": "code",
   "execution_count": 5,
   "id": "f99efcd2",
   "metadata": {
    "ExecuteTime": {
     "end_time": "2021-11-09T16:41:24.546051Z",
     "start_time": "2021-11-09T16:41:24.540140Z"
    }
   },
   "outputs": [],
   "source": [
    "def vgg(conv_arch):\n",
    "    conv_blks = []\n",
    "    in_channels = 1\n",
    "    for (num_convs, out_channels) in conv_arch:\n",
    "        conv_blks.append(vgg_block(num_convs, in_channels, out_channels))\n",
    "        in_channels = out_channels\n",
    "    return nn.Sequential(*conv_blks, nn.Flatten(),\n",
    "                        nn.Linear(out_channels*7*7, 4096), nn.ReLU(), nn.Dropout(0.5),\n",
    "                        nn.Linear(4096, 4096), nn.ReLU(), nn.Dropout(0.5),\n",
    "                        nn.Linear(4096, 10))"
   ]
  },
  {
   "cell_type": "code",
   "execution_count": 11,
   "id": "72c24f5a",
   "metadata": {
    "ExecuteTime": {
     "end_time": "2021-11-09T16:45:27.574444Z",
     "start_time": "2021-11-09T16:45:27.094755Z"
    }
   },
   "outputs": [],
   "source": [
    "# vgg architecture--double the #channel while the the size of image decreasing\n",
    "# VGG-11\n",
    "conv_arch = ((1, 64), (1, 128), (2, 256), (2, 512), (2, 512))\n",
    "\n",
    "net = vgg(conv_arch)"
   ]
  },
  {
   "cell_type": "code",
   "execution_count": 12,
   "id": "38520e8a",
   "metadata": {
    "ExecuteTime": {
     "end_time": "2021-11-09T16:45:28.540238Z",
     "start_time": "2021-11-09T16:45:28.152882Z"
    }
   },
   "outputs": [
    {
     "name": "stdout",
     "output_type": "stream",
     "text": [
      "Sequential Output Shape: \t torch.Size([1, 64, 112, 112])\n",
      "Sequential Output Shape: \t torch.Size([1, 128, 56, 56])\n",
      "Sequential Output Shape: \t torch.Size([1, 256, 28, 28])\n",
      "Sequential Output Shape: \t torch.Size([1, 512, 14, 14])\n",
      "Sequential Output Shape: \t torch.Size([1, 512, 7, 7])\n",
      "Flatten Output Shape: \t torch.Size([1, 25088])\n",
      "Linear Output Shape: \t torch.Size([1, 4096])\n",
      "ReLU Output Shape: \t torch.Size([1, 4096])\n",
      "Dropout Output Shape: \t torch.Size([1, 4096])\n",
      "Linear Output Shape: \t torch.Size([1, 4096])\n",
      "ReLU Output Shape: \t torch.Size([1, 4096])\n",
      "Dropout Output Shape: \t torch.Size([1, 4096])\n",
      "Linear Output Shape: \t torch.Size([1, 10])\n"
     ]
    }
   ],
   "source": [
    "X = torch.rand((1,1,224,224))\n",
    "for blk in net:\n",
    "    X = blk(X)\n",
    "    print(blk.__class__.__name__, 'Output Shape: \\t', X.shape)"
   ]
  },
  {
   "cell_type": "code",
   "execution_count": 14,
   "id": "b4d10aec",
   "metadata": {
    "ExecuteTime": {
     "end_time": "2021-11-09T16:47:43.843869Z",
     "start_time": "2021-11-09T16:47:43.663480Z"
    }
   },
   "outputs": [],
   "source": [
    "# VGG-11 is too big, so we just construct a smaller net with fewer #channel\n",
    "ratio = 4\n",
    "small_conv_arch = [(pair[0], pair[1] // 4) for pair in conv_arch]\n",
    "net = vgg(small_conv_arch)"
   ]
  },
  {
   "cell_type": "code",
   "execution_count": 15,
   "id": "744b8212",
   "metadata": {
    "ExecuteTime": {
     "end_time": "2021-11-09T16:47:50.205492Z",
     "start_time": "2021-11-09T16:47:50.134662Z"
    }
   },
   "outputs": [
    {
     "name": "stdout",
     "output_type": "stream",
     "text": [
      "Sequential Output Shape: \t torch.Size([1, 16, 112, 112])\n",
      "Sequential Output Shape: \t torch.Size([1, 32, 56, 56])\n",
      "Sequential Output Shape: \t torch.Size([1, 64, 28, 28])\n",
      "Sequential Output Shape: \t torch.Size([1, 128, 14, 14])\n",
      "Sequential Output Shape: \t torch.Size([1, 128, 7, 7])\n",
      "Flatten Output Shape: \t torch.Size([1, 6272])\n",
      "Linear Output Shape: \t torch.Size([1, 4096])\n",
      "ReLU Output Shape: \t torch.Size([1, 4096])\n",
      "Dropout Output Shape: \t torch.Size([1, 4096])\n",
      "Linear Output Shape: \t torch.Size([1, 4096])\n",
      "ReLU Output Shape: \t torch.Size([1, 4096])\n",
      "Dropout Output Shape: \t torch.Size([1, 4096])\n",
      "Linear Output Shape: \t torch.Size([1, 10])\n"
     ]
    }
   ],
   "source": [
    "X = torch.rand((1,1,224,224))\n",
    "for blk in net:\n",
    "    X = blk(X)\n",
    "    print(blk.__class__.__name__, 'Output Shape: \\t', X.shape)"
   ]
  },
  {
   "cell_type": "code",
   "execution_count": null,
   "id": "3c5e4d30",
   "metadata": {
    "ExecuteTime": {
     "start_time": "2021-11-09T16:49:28.025Z"
    }
   },
   "outputs": [
    {
     "name": "stdout",
     "output_type": "stream",
     "text": [
      "training on cpu\n"
     ]
    }
   ],
   "source": [
    "lr, num_epochs, batch_size = 0.05, 8, 256\n",
    "train_iter, test_iter = d2l.load_data_fashion_mnist(batch_size, resize=224)\n",
    "d2l.train_ch6(net, train_iter, test_iter, num_epochs, lr, d2l.try_gpu())"
   ]
  }
 ],
 "metadata": {
  "kernelspec": {
   "display_name": "Python [conda env:pytorch] *",
   "language": "python",
   "name": "conda-env-pytorch-py"
  },
  "language_info": {
   "codemirror_mode": {
    "name": "ipython",
    "version": 3
   },
   "file_extension": ".py",
   "mimetype": "text/x-python",
   "name": "python",
   "nbconvert_exporter": "python",
   "pygments_lexer": "ipython3",
   "version": "3.9.7"
  }
 },
 "nbformat": 4,
 "nbformat_minor": 5
}
