{
 "cells": [
  {
   "cell_type": "code",
   "execution_count": 1,
   "id": "7a67fcab",
   "metadata": {
    "ExecuteTime": {
     "end_time": "2021-11-08T07:28:36.360801Z",
     "start_time": "2021-11-08T07:28:35.111983Z"
    }
   },
   "outputs": [],
   "source": [
    "import torch\n",
    "from torch import nn\n",
    "from d2l import torch as d2l"
   ]
  },
  {
   "cell_type": "code",
   "execution_count": 2,
   "id": "17d6747f",
   "metadata": {
    "ExecuteTime": {
     "end_time": "2021-11-08T07:32:11.722570Z",
     "start_time": "2021-11-08T07:32:11.710304Z"
    }
   },
   "outputs": [],
   "source": [
    "def pool2d(X, pool_size, mode='max'):\n",
    "    p_h, p_w = pool_size\n",
    "    Y = torch.zeros((X.shape[0]-p_h+1, X.shape[1]-p_w+1))\n",
    "    for i in range(Y.shape[0]):\n",
    "        for j in range(Y.shape[0]):\n",
    "            for j in range(Y.shape[1]):\n",
    "                if mode=='max':\n",
    "                    Y[i,j] = X[i:i+p_h,j:j+p_w].max()\n",
    "                elif mode=='avg':\n",
    "                    Y[i,j] = X[i:i+p_h,j:j+p_w].mean()\n",
    "    return Y"
   ]
  },
  {
   "cell_type": "code",
   "execution_count": 3,
   "id": "fdb9603f",
   "metadata": {
    "ExecuteTime": {
     "end_time": "2021-11-08T07:33:28.554964Z",
     "start_time": "2021-11-08T07:33:28.517812Z"
    }
   },
   "outputs": [
    {
     "data": {
      "text/plain": [
       "tensor([[4., 5.],\n",
       "        [7., 8.]])"
      ]
     },
     "execution_count": 3,
     "metadata": {},
     "output_type": "execute_result"
    }
   ],
   "source": [
    "X = torch.tensor([[0., 1., 2.],[3.,4.,5.],[6.,7.,8.]])\n",
    "pool2d(X, (2,2))"
   ]
  },
  {
   "cell_type": "code",
   "execution_count": 5,
   "id": "d2fff733",
   "metadata": {
    "ExecuteTime": {
     "end_time": "2021-11-08T07:34:15.361418Z",
     "start_time": "2021-11-08T07:34:15.355794Z"
    }
   },
   "outputs": [
    {
     "data": {
      "text/plain": [
       "tensor([[2., 3.],\n",
       "        [5., 6.]])"
      ]
     },
     "execution_count": 5,
     "metadata": {},
     "output_type": "execute_result"
    }
   ],
   "source": [
    "pool2d(X, (2,2), mode='avg')"
   ]
  },
  {
   "cell_type": "markdown",
   "id": "65b12f52",
   "metadata": {},
   "source": [
    "# Pytorch version"
   ]
  },
  {
   "cell_type": "code",
   "execution_count": 6,
   "id": "8900c0b1",
   "metadata": {
    "ExecuteTime": {
     "end_time": "2021-11-08T07:34:48.706520Z",
     "start_time": "2021-11-08T07:34:48.699190Z"
    }
   },
   "outputs": [
    {
     "data": {
      "text/plain": [
       "tensor([[[[ 0.,  1.,  2.,  3.],\n",
       "          [ 4.,  5.,  6.,  7.],\n",
       "          [ 8.,  9., 10., 11.],\n",
       "          [12., 13., 14., 15.]]]])"
      ]
     },
     "execution_count": 6,
     "metadata": {},
     "output_type": "execute_result"
    }
   ],
   "source": [
    "X = torch.arange(16, dtype=torch.float32).reshape((1,1,4,4))\n",
    "X"
   ]
  },
  {
   "cell_type": "markdown",
   "id": "b237e4ca",
   "metadata": {},
   "source": [
    "## In pytorch, stride=size of kernel. => No overlap"
   ]
  },
  {
   "cell_type": "code",
   "execution_count": 8,
   "id": "110580bf",
   "metadata": {
    "ExecuteTime": {
     "end_time": "2021-11-08T07:35:37.412135Z",
     "start_time": "2021-11-08T07:35:37.406990Z"
    }
   },
   "outputs": [
    {
     "data": {
      "text/plain": [
       "tensor([[[[10.]]]])"
      ]
     },
     "execution_count": 8,
     "metadata": {},
     "output_type": "execute_result"
    }
   ],
   "source": [
    "pool2d = nn.MaxPool2d(3) # 3x3 kernel\n",
    "pool2d(X)"
   ]
  },
  {
   "cell_type": "code",
   "execution_count": 9,
   "id": "3c0476ed",
   "metadata": {
    "ExecuteTime": {
     "end_time": "2021-11-08T07:36:51.453884Z",
     "start_time": "2021-11-08T07:36:51.446424Z"
    }
   },
   "outputs": [
    {
     "data": {
      "text/plain": [
       "tensor([[[[ 5.,  7.],\n",
       "          [13., 15.]]]])"
      ]
     },
     "execution_count": 9,
     "metadata": {},
     "output_type": "execute_result"
    }
   ],
   "source": [
    "pool2d = nn.MaxPool2d(3, padding=1, stride=2)\n",
    "pool2d(X)"
   ]
  },
  {
   "cell_type": "code",
   "execution_count": 11,
   "id": "f03c020a",
   "metadata": {
    "ExecuteTime": {
     "end_time": "2021-11-08T07:37:18.298145Z",
     "start_time": "2021-11-08T07:37:18.292188Z"
    }
   },
   "outputs": [
    {
     "data": {
      "text/plain": [
       "tensor([[[[ 6.],\n",
       "          [14.]]]])"
      ]
     },
     "execution_count": 11,
     "metadata": {},
     "output_type": "execute_result"
    }
   ],
   "source": [
    "pool2d = nn.MaxPool2d(3, padding=(1,0), stride=(2,3))\n",
    "pool2d(X)"
   ]
  },
  {
   "cell_type": "code",
   "execution_count": 12,
   "id": "fd9c8c30",
   "metadata": {
    "ExecuteTime": {
     "end_time": "2021-11-08T07:37:46.925009Z",
     "start_time": "2021-11-08T07:37:46.915590Z"
    }
   },
   "outputs": [
    {
     "data": {
      "text/plain": [
       "tensor([[[[ 0.,  1.,  2.,  3.],\n",
       "          [ 4.,  5.,  6.,  7.],\n",
       "          [ 8.,  9., 10., 11.],\n",
       "          [12., 13., 14., 15.]],\n",
       "\n",
       "         [[ 1.,  2.,  3.,  4.],\n",
       "          [ 5.,  6.,  7.,  8.],\n",
       "          [ 9., 10., 11., 12.],\n",
       "          [13., 14., 15., 16.]]]])"
      ]
     },
     "execution_count": 12,
     "metadata": {},
     "output_type": "execute_result"
    }
   ],
   "source": [
    "X = torch.cat((X, X+1), 1) # add a channel\n",
    "X"
   ]
  },
  {
   "cell_type": "code",
   "execution_count": 13,
   "id": "1005baa9",
   "metadata": {
    "ExecuteTime": {
     "end_time": "2021-11-08T07:37:58.847571Z",
     "start_time": "2021-11-08T07:37:58.843328Z"
    }
   },
   "outputs": [
    {
     "data": {
      "text/plain": [
       "torch.Size([1, 2, 4, 4])"
      ]
     },
     "execution_count": 13,
     "metadata": {},
     "output_type": "execute_result"
    }
   ],
   "source": [
    "X.shape"
   ]
  }
 ],
 "metadata": {
  "kernelspec": {
   "display_name": "Python [conda env:pytorch] *",
   "language": "python",
   "name": "conda-env-pytorch-py"
  },
  "language_info": {
   "codemirror_mode": {
    "name": "ipython",
    "version": 3
   },
   "file_extension": ".py",
   "mimetype": "text/x-python",
   "name": "python",
   "nbconvert_exporter": "python",
   "pygments_lexer": "ipython3",
   "version": "3.9.7"
  }
 },
 "nbformat": 4,
 "nbformat_minor": 5
}
