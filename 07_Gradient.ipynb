{
 "cells": [
  {
   "cell_type": "markdown",
   "id": "ae7e61b4",
   "metadata": {},
   "source": [
    "# Gradient"
   ]
  },
  {
   "cell_type": "code",
   "execution_count": 1,
   "id": "ead6ad81",
   "metadata": {},
   "outputs": [
    {
     "data": {
      "text/plain": [
       "tensor([0., 1., 2., 3.])"
      ]
     },
     "execution_count": 1,
     "metadata": {},
     "output_type": "execute_result"
    }
   ],
   "source": [
    "import torch\n",
    "# implicitly assert dtype\n",
    "x = torch.arange(4.0)\n",
    "x"
   ]
  },
  {
   "cell_type": "code",
   "execution_count": 2,
   "id": "d88f564c",
   "metadata": {},
   "outputs": [],
   "source": [
    "# find a place to store gradient--x.grad\n",
    "x.requires_grad_(True)\n",
    "x.requires_grad=True"
   ]
  },
  {
   "cell_type": "code",
   "execution_count": 3,
   "id": "0a7e1dbf",
   "metadata": {},
   "outputs": [
    {
     "data": {
      "text/plain": [
       "tensor([0., 1., 2., 3.], requires_grad=True)"
      ]
     },
     "execution_count": 3,
     "metadata": {},
     "output_type": "execute_result"
    }
   ],
   "source": [
    "x.requires_grad_()"
   ]
  },
  {
   "cell_type": "code",
   "execution_count": 4,
   "id": "e258dc65",
   "metadata": {},
   "outputs": [
    {
     "data": {
      "text/plain": [
       "tensor(28., grad_fn=<MulBackward0>)"
      ]
     },
     "execution_count": 4,
     "metadata": {},
     "output_type": "execute_result"
    }
   ],
   "source": [
    "# implicitly construct map--caculate gradient function \n",
    "y = 2*torch.dot(x,x)\n",
    "y"
   ]
  },
  {
   "cell_type": "markdown",
   "id": "dbba86fb",
   "metadata": {},
   "source": [
    "## Back Propagation"
   ]
  },
  {
   "cell_type": "code",
   "execution_count": 5,
   "id": "bee1eebb",
   "metadata": {},
   "outputs": [
    {
     "data": {
      "text/plain": [
       "tensor([ 0.,  4.,  8., 12.])"
      ]
     },
     "execution_count": 5,
     "metadata": {},
     "output_type": "execute_result"
    }
   ],
   "source": [
    "y.backward() # derive gradient, store in x.grad\n",
    "x.grad"
   ]
  },
  {
   "cell_type": "code",
   "execution_count": 6,
   "id": "c6887c47",
   "metadata": {},
   "outputs": [
    {
     "data": {
      "text/plain": [
       "tensor([True, True, True, True])"
      ]
     },
     "execution_count": 6,
     "metadata": {},
     "output_type": "execute_result"
    }
   ],
   "source": [
    "x.grad == 4*x"
   ]
  },
  {
   "cell_type": "code",
   "execution_count": 7,
   "id": "4dc4d34a",
   "metadata": {},
   "outputs": [
    {
     "data": {
      "text/plain": [
       "tensor([1., 1., 1., 1.])"
      ]
     },
     "execution_count": 7,
     "metadata": {},
     "output_type": "execute_result"
    }
   ],
   "source": [
    "# pytorch will automatically accumulate gradient\n",
    "# so you have to clear/empty gradient manually\n",
    "x.grad.zero_() # function name ending with _ means this function will change value\n",
    "y = x.sum()\n",
    "y.backward()\n",
    "x.grad"
   ]
  },
  {
   "cell_type": "code",
   "execution_count": 21,
   "id": "c383df0d",
   "metadata": {},
   "outputs": [
    {
     "data": {
      "text/plain": [
       "tensor([0., 1., 4., 9.], grad_fn=<MulBackward0>)"
      ]
     },
     "execution_count": 21,
     "metadata": {},
     "output_type": "execute_result"
    }
   ],
   "source": [
    "y = x*x\n",
    "y"
   ]
  },
  {
   "cell_type": "code",
   "execution_count": 22,
   "id": "08151a30",
   "metadata": {},
   "outputs": [
    {
     "data": {
      "text/plain": [
       "tensor([0., 2., 4., 6.])"
      ]
     },
     "execution_count": 22,
     "metadata": {},
     "output_type": "execute_result"
    }
   ],
   "source": [
    "# generally backward is used for a scalar\n",
    "# when y is a matrix, we usually use y.sum() for back propagation\n",
    "x.grad.zero_()\n",
    "# each time you call backward(), it will clear the computation graph\n",
    "# each back propagation need once forward propagation\n",
    "y.sum().backward() \n",
    "x.grad"
   ]
  },
  {
   "cell_type": "markdown",
   "id": "815e69c8",
   "metadata": {},
   "source": [
    "## Partial Propagation"
   ]
  },
  {
   "cell_type": "code",
   "execution_count": 10,
   "id": "3510c621",
   "metadata": {},
   "outputs": [
    {
     "data": {
      "text/plain": [
       "tensor([True, True, True, True])"
      ]
     },
     "execution_count": 10,
     "metadata": {},
     "output_type": "execute_result"
    }
   ],
   "source": [
    "# sometimes we want to 'freeze' part of net, which means we only want to update part gradients\n",
    "# detach() will cut off back propagation\n",
    "x.grad.zero_()\n",
    "y = x*x\n",
    "u = y.detach() # y is a function of x, but u is not(y is seen as a scalar)\n",
    "z = u*x\n",
    "\n",
    "# part1\n",
    "z.sum().backward()\n",
    "x.grad == u"
   ]
  },
  {
   "cell_type": "code",
   "execution_count": 11,
   "id": "41abc6a9",
   "metadata": {},
   "outputs": [
    {
     "data": {
      "text/plain": [
       "tensor([True, True, True, True])"
      ]
     },
     "execution_count": 11,
     "metadata": {},
     "output_type": "execute_result"
    }
   ],
   "source": [
    "# part2\n",
    "x.grad.zero_()\n",
    "y.sum().backward()\n",
    "\n",
    "x.grad == 2*x"
   ]
  },
  {
   "cell_type": "markdown",
   "id": "a993316e",
   "metadata": {},
   "source": [
    "### pytorch will implicitly construct Computation Graph(tracking anything you do). It is quite handy, but relatively slow(compare with explicitly Computation Graph construction)"
   ]
  }
 ],
 "metadata": {
  "kernelspec": {
   "display_name": "Python [conda env:pytorch] *",
   "language": "python",
   "name": "conda-env-pytorch-py"
  },
  "language_info": {
   "codemirror_mode": {
    "name": "ipython",
    "version": 3
   },
   "file_extension": ".py",
   "mimetype": "text/x-python",
   "name": "python",
   "nbconvert_exporter": "python",
   "pygments_lexer": "ipython3",
   "version": "3.9.7"
  }
 },
 "nbformat": 4,
 "nbformat_minor": 5
}
