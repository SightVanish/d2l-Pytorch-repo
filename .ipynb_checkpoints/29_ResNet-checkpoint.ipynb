{
 "cells": [
  {
   "cell_type": "code",
   "execution_count": 6,
   "id": "77c50bf0",
   "metadata": {
    "ExecuteTime": {
     "end_time": "2021-11-10T17:19:49.154598Z",
     "start_time": "2021-11-10T17:19:49.151558Z"
    }
   },
   "outputs": [],
   "source": [
    "import torch\n",
    "from torch import nn\n",
    "from d2l import torch as d2l\n",
    "from torch.nn import functional as F"
   ]
  },
  {
   "cell_type": "code",
   "execution_count": 53,
   "id": "db693ad9",
   "metadata": {
    "ExecuteTime": {
     "end_time": "2021-11-10T17:45:28.866048Z",
     "start_time": "2021-11-10T17:45:28.857768Z"
    }
   },
   "outputs": [],
   "source": [
    "class Residual(nn.Module):\n",
    "    def __init__(self, input_channels, num_channels, use_1x1conv=False, stride=1):\n",
    "        super().__init__()\n",
    "        self.conv1 = nn.Conv2d(input_channels, num_channels, kernel_size=3, padding=1, stride=stride)\n",
    "        self.conv2 = nn.Conv2d(num_channels, num_channels, kernel_size=3, padding=1) # stride=1, we do not want to change the shape\n",
    "        if use_1x1conv:\n",
    "            self.conv3 = nn.Conv2d(input_channels, num_channels, kernel_size=1, stride=stride)\n",
    "        else:\n",
    "            self.conv3 = None\n",
    "        self.bn1 = nn.BatchNorm2d(num_channels)\n",
    "        self.bn2 = nn.BatchNorm2d(num_channels)\n",
    "        self.relu = nn.ReLU(inplace=True) # just to save memory\n",
    "    def forward(self, X):\n",
    "        Y = F.relu(self.bn1(self.conv1(X)))\n",
    "        Y = self.bn2((self.conv2(Y)))\n",
    "        if self.conv3:\n",
    "            X = self.conv3(X)\n",
    "        Y += X\n",
    "        return F.relu(Y)"
   ]
  },
  {
   "cell_type": "code",
   "execution_count": 29,
   "id": "e0bae960",
   "metadata": {
    "ExecuteTime": {
     "end_time": "2021-11-10T17:40:30.332605Z",
     "start_time": "2021-11-10T17:40:30.325345Z"
    }
   },
   "outputs": [
    {
     "data": {
      "text/plain": [
       "torch.Size([4, 3, 6, 6])"
      ]
     },
     "execution_count": 29,
     "metadata": {},
     "output_type": "execute_result"
    }
   ],
   "source": [
    "# do not change the number of channels\n",
    "blk = Residual(3,3)\n",
    "X = torch.rand(4,3,6,6)\n",
    "Y = blk(X)\n",
    "Y.shape"
   ]
  },
  {
   "cell_type": "code",
   "execution_count": 30,
   "id": "e5a9abf9",
   "metadata": {
    "ExecuteTime": {
     "end_time": "2021-11-10T17:40:31.594290Z",
     "start_time": "2021-11-10T17:40:31.586444Z"
    }
   },
   "outputs": [
    {
     "data": {
      "text/plain": [
       "torch.Size([4, 6, 3, 3])"
      ]
     },
     "execution_count": 30,
     "metadata": {},
     "output_type": "execute_result"
    }
   ],
   "source": [
    "# change the number of channels & the shape of data\n",
    "blk = Residual(3,6,use_1x1conv=True,stride=2)\n",
    "X = torch.rand(4,3,6,6)\n",
    "Y = blk(X)\n",
    "Y.shape"
   ]
  },
  {
   "cell_type": "code",
   "execution_count": 54,
   "id": "bf1d5602",
   "metadata": {
    "ExecuteTime": {
     "end_time": "2021-11-10T17:45:29.875348Z",
     "start_time": "2021-11-10T17:45:29.795215Z"
    }
   },
   "outputs": [],
   "source": [
    "def resnet_block(input_channels, num_channels, num_residuals,\n",
    "                 first_block=False):\n",
    "    blk = []\n",
    "    for i in range(num_residuals):\n",
    "        if i == 0 and not first_block:\n",
    "            blk.append(Residual(input_channels, num_channels,\n",
    "                                use_1x1conv=True, stride=2))\n",
    "        else:\n",
    "            blk.append(Residual(num_channels, num_channels))\n",
    "    return blk\n",
    "\n",
    "b2 = nn.Sequential(*resnet_block(64, 64, 2, first_block=True))\n",
    "b3 = nn.Sequential(*resnet_block(64, 128, 2))\n",
    "b4 = nn.Sequential(*resnet_block(128, 256, 2))\n",
    "b5 = nn.Sequential(*resnet_block(256, 512, 2))"
   ]
  },
  {
   "cell_type": "code",
   "execution_count": 55,
   "id": "1919adfe",
   "metadata": {
    "ExecuteTime": {
     "end_time": "2021-11-10T17:45:31.895803Z",
     "start_time": "2021-11-10T17:45:31.892797Z"
    }
   },
   "outputs": [],
   "source": [
    "net = nn.Sequential(b1, b2, b3)"
   ]
  },
  {
   "cell_type": "code",
   "execution_count": 46,
   "id": "2149d435",
   "metadata": {
    "ExecuteTime": {
     "end_time": "2021-11-10T17:44:10.011711Z",
     "start_time": "2021-11-10T17:44:09.937513Z"
    }
   },
   "outputs": [],
   "source": [
    "# it is the first block of the net\n",
    "b1 = nn.Sequential(nn.Conv2d(1, 64, kernel_size=7, stride=2, padding=3), \n",
    "                   nn.BatchNorm2d(64), nn.ReLU(), nn.MaxPool2d(kernel_size=3, stride=2, padding=1))\n",
    "# construct resnet block\n",
    "def resnet_block(input_channels, num_channels, num_residuals, first_block = False):\n",
    "    blk = []\n",
    "    for i in range(num_residuals):\n",
    "        if i==0 and not first_block:\n",
    "            blk.append(Residual(input_channels, num_channels, use_1x1conv=True, strides=2))\n",
    "        else:\n",
    "            blk.append(Residual(input_channels, num_channels))\n",
    "    return blk\n",
    "\n",
    "b2 = nn.Sequential(*resnet_block(64, 64, 2, first_block=True)) # first_block=True--do not shrink data shape\n",
    "b3 = nn.Sequential(*resnet_block(64, 128, 2))\n",
    "b4 = nn.Sequential(*resnet_block(128, 256, 2)) \n",
    "b5 = nn.Sequential(*resnet_block(256, 512, 2)) \n",
    "\n",
    "# net = nn.Sequential(b1, b2, b3, b4, b5, nn.AdaptiveAvgPool2d((1,1)), nn.Flatten(), nn.Linear(512, 10))\n",
    "net = nn.Sequential(b1, b2, b3)"
   ]
  },
  {
   "cell_type": "code",
   "execution_count": 56,
   "id": "b19bb5e5",
   "metadata": {
    "ExecuteTime": {
     "end_time": "2021-11-10T17:45:33.316731Z",
     "start_time": "2021-11-10T17:45:33.254599Z"
    }
   },
   "outputs": [
    {
     "name": "stdout",
     "output_type": "stream",
     "text": [
      "Sequential Output shape:  torch.Size([1, 64, 56, 56])\n",
      "Sequential Output shape:  torch.Size([1, 64, 56, 56])\n",
      "Sequential Output shape:  torch.Size([1, 128, 28, 28])\n"
     ]
    }
   ],
   "source": [
    "X = torch.rand(1,1,224,224)\n",
    "for layer in net:\n",
    "    X = layer(X)\n",
    "    print(layer.__class__.__name__, 'Output shape: ', X.shape)"
   ]
  },
  {
   "cell_type": "code",
   "execution_count": null,
   "id": "0a353d5f",
   "metadata": {},
   "outputs": [],
   "source": []
  },
  {
   "cell_type": "code",
   "execution_count": null,
   "id": "85ba669a",
   "metadata": {},
   "outputs": [],
   "source": []
  }
 ],
 "metadata": {
  "kernelspec": {
   "display_name": "Python [conda env:pytorch] *",
   "language": "python",
   "name": "conda-env-pytorch-py"
  },
  "language_info": {
   "codemirror_mode": {
    "name": "ipython",
    "version": 3
   },
   "file_extension": ".py",
   "mimetype": "text/x-python",
   "name": "python",
   "nbconvert_exporter": "python",
   "pygments_lexer": "ipython3",
   "version": "3.9.7"
  }
 },
 "nbformat": 4,
 "nbformat_minor": 5
}
