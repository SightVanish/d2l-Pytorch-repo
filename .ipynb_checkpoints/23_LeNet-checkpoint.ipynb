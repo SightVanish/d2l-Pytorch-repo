{
 "cells": [
  {
   "cell_type": "code",
   "execution_count": 1,
   "id": "88674787",
   "metadata": {
    "ExecuteTime": {
     "end_time": "2021-11-08T08:06:22.050399Z",
     "start_time": "2021-11-08T08:06:21.598828Z"
    }
   },
   "outputs": [],
   "source": [
    "import torch\n",
    "from torch import nn\n",
    "from d2l import torch as d2l"
   ]
  },
  {
   "cell_type": "code",
   "execution_count": 15,
   "id": "2aed8d2f",
   "metadata": {
    "ExecuteTime": {
     "end_time": "2021-11-08T08:23:39.251469Z",
     "start_time": "2021-11-08T08:23:39.247520Z"
    }
   },
   "outputs": [],
   "source": [
    "class Reshape(torch.nn.Module):\n",
    "    def forward(self, x):\n",
    "        return x.view(-1, 1, 28,28) # 1 channel "
   ]
  },
  {
   "cell_type": "code",
   "execution_count": 16,
   "id": "8b7f6041",
   "metadata": {
    "ExecuteTime": {
     "end_time": "2021-11-08T08:23:39.930051Z",
     "start_time": "2021-11-08T08:23:39.921771Z"
    }
   },
   "outputs": [],
   "source": [
    "net = torch.nn.Sequential(\n",
    "        Reshape(),\n",
    "        nn.Conv2d(1, 6, kernel_size=5, padding=2), nn.Sigmoid(), # padding in case losing information\n",
    "        nn.AvgPool2d(kernel_size=2, stride=2),\n",
    "        nn.Conv2d(6, 16, kernel_size=5), nn.Sigmoid(),\n",
    "        nn.AvgPool2d(kernel_size=2, stride=2), \n",
    "        nn.Flatten(),\n",
    "        nn.Linear(16*5*5, 120), nn.Sigmoid(),\n",
    "        nn.Linear(120, 84), nn.Sigmoid(),\n",
    "        nn.Linear(84, 10))"
   ]
  },
  {
   "cell_type": "code",
   "execution_count": 25,
   "id": "342bc9fc",
   "metadata": {
    "ExecuteTime": {
     "end_time": "2021-11-08T08:29:15.974549Z",
     "start_time": "2021-11-08T08:29:15.963899Z"
    }
   },
   "outputs": [
    {
     "name": "stdout",
     "output_type": "stream",
     "text": [
      "Reshape output shape: \t torch.Size([2, 1, 28, 28])\n",
      "Conv2d output shape: \t torch.Size([2, 6, 28, 28])\n",
      "Sigmoid output shape: \t torch.Size([2, 6, 28, 28])\n",
      "AvgPool2d output shape: \t torch.Size([2, 6, 14, 14])\n",
      "Conv2d output shape: \t torch.Size([2, 16, 10, 10])\n",
      "Sigmoid output shape: \t torch.Size([2, 16, 10, 10])\n",
      "AvgPool2d output shape: \t torch.Size([2, 16, 5, 5])\n",
      "Flatten output shape: \t torch.Size([2, 400])\n",
      "Linear output shape: \t torch.Size([2, 120])\n",
      "Sigmoid output shape: \t torch.Size([2, 120])\n",
      "Linear output shape: \t torch.Size([2, 84])\n",
      "Sigmoid output shape: \t torch.Size([2, 84])\n",
      "Linear output shape: \t torch.Size([2, 10])\n"
     ]
    }
   ],
   "source": [
    "X = torch.rand(size=(1,1,28,28),dtype=torch.float32)\n",
    "X = torch.cat((X, X+1), 0) # batch_size=2\n",
    "for layer in net:\n",
    "    X = layer(X)\n",
    "    print(layer.__class__.__name__, 'output shape: \\t', X.shape)"
   ]
  },
  {
   "cell_type": "code",
   "execution_count": 29,
   "id": "867ed504",
   "metadata": {
    "ExecuteTime": {
     "end_time": "2021-11-08T08:33:04.662055Z",
     "start_time": "2021-11-08T08:32:50.970211Z"
    },
    "scrolled": true
   },
   "outputs": [
    {
     "name": "stdout",
     "output_type": "stream",
     "text": [
      "Downloading http://fashion-mnist.s3-website.eu-central-1.amazonaws.com/train-images-idx3-ubyte.gz to ../data/FashionMNIST/raw/train-images-idx3-ubyte.gz\n"
     ]
    },
    {
     "name": "stderr",
     "output_type": "stream",
     "text": [
      "100.0%"
     ]
    },
    {
     "name": "stdout",
     "output_type": "stream",
     "text": [
      "Extracting ../data/FashionMNIST/raw/train-images-idx3-ubyte.gz\n",
      "Downloading http://fashion-mnist.s3-website.eu-central-1.amazonaws.com/train-labels-idx1-ubyte.gz to ../data/FashionMNIST/raw/train-labels-idx1-ubyte.gz\n"
     ]
    },
    {
     "name": "stderr",
     "output_type": "stream",
     "text": [
      "111.0%"
     ]
    },
    {
     "name": "stdout",
     "output_type": "stream",
     "text": [
      "Extracting ../data/FashionMNIST/raw/train-labels-idx1-ubyte.gz\n",
      "Downloading http://fashion-mnist.s3-website.eu-central-1.amazonaws.com/t10k-images-idx3-ubyte.gz to ../data/FashionMNIST/raw/t10k-images-idx3-ubyte.gz\n"
     ]
    },
    {
     "name": "stderr",
     "output_type": "stream",
     "text": [
      "100.0%"
     ]
    },
    {
     "name": "stdout",
     "output_type": "stream",
     "text": [
      "Extracting ../data/FashionMNIST/raw/t10k-images-idx3-ubyte.gz\n",
      "Downloading http://fashion-mnist.s3-website.eu-central-1.amazonaws.com/t10k-labels-idx1-ubyte.gz to ../data/FashionMNIST/raw/t10k-labels-idx1-ubyte.gz\n"
     ]
    },
    {
     "name": "stderr",
     "output_type": "stream",
     "text": [
      "159.1%"
     ]
    },
    {
     "name": "stdout",
     "output_type": "stream",
     "text": [
      "Extracting ../data/FashionMNIST/raw/t10k-labels-idx1-ubyte.gz\n",
      "Processing...\n",
      "Done!\n"
     ]
    },
    {
     "name": "stderr",
     "output_type": "stream",
     "text": [
      "/Users/liwuchen/miniforge3/envs/pytorch/lib/python3.9/site-packages/torchvision/datasets/mnist.py:335: UserWarning: The given NumPy array is not writeable, and PyTorch does not support non-writeable tensors. This means you can write to the underlying (supposedly non-writeable) NumPy array using the tensor. You may want to copy the array to protect its data or make it writeable before converting it to a tensor. This type of warning will be suppressed for the rest of this program. (Triggered internally at  /tmp/pip-req-build-7r0apc_n/torch/csrc/utils/tensor_numpy.cpp:180.)\n",
      "  return torch.from_numpy(parsed).view(length, num_rows, num_cols)\n"
     ]
    }
   ],
   "source": [
    "batch_size = 256\n",
    "train_iter, test_iter = d2l.load_data_fashion_mnist(batch_size=batch_size)"
   ]
  },
  {
   "cell_type": "code",
   "execution_count": 30,
   "id": "9a577646",
   "metadata": {
    "ExecuteTime": {
     "end_time": "2021-11-08T08:36:45.406971Z",
     "start_time": "2021-11-08T08:36:45.399379Z"
    }
   },
   "outputs": [],
   "source": [
    "def evaluate_accuracu_gpu(net, data_iter, device=None):\n",
    "    if isinstance(net, torch.nn.Module): # decide whether net is a subclass of torch.nn.Module\n",
    "        net.eval()\n",
    "        if not device:\n",
    "            device = next(iter(net.parameters())).device\n",
    "    metric = d2l.Accumulator(2)\n",
    "    \n",
    "    for X, y in data_iter:\n",
    "        if isinstance(X, list):\n",
    "            X = [x.to(device) for x in X]\n",
    "        else:\n",
    "            X = X.to(device)\n",
    "        y = y.to(device)\n",
    "        metric.add(d2l.accuracy(net(X), y), y.numel())\n",
    "    return metric[0] / metric[1]"
   ]
  },
  {
   "cell_type": "code",
   "execution_count": 32,
   "id": "b2de7d91",
   "metadata": {
    "ExecuteTime": {
     "end_time": "2021-11-08T08:59:56.364251Z",
     "start_time": "2021-11-08T08:59:56.350169Z"
    }
   },
   "outputs": [],
   "source": [
    "def train_ch6(net, train_iter, test_iter, num_epochs, lr, device):\n",
    "    def init_weights(m):\n",
    "        if type(m)==nn.Linear or type(m)==nn.Conv2d:\n",
    "            nn.init.xavier_normal_(m.weight)\n",
    "#             nn.init.xavier_uniform_(m.weight)\n",
    "    net.apply(init_weights)\n",
    "    print('training on', device)\n",
    "    net.to(device) # switch to device\n",
    "    optimizer=torch.optim.SGD(net.parameters(), lr=lr)\n",
    "    loss=nn.CrossEntropyLoss()\n",
    "    animator=d2l.Animator(xlabel='epoch', xlim=[1, num_epochs], legend=['train loss', 'train acc', 'test acc'])\n",
    "    timer, num_batches=d2l.Timer(), len(train_iter)\n",
    "    for epoch in range(num_epochs):\n",
    "        metric=d2l.Accumulator(3)\n",
    "        net.train() # set net to training mode\n",
    "        for i, (X, y) in enumerate(train_iter):\n",
    "            timer.start()\n",
    "            optimizer.zero_grad()\n",
    "            X, y = X.to(device), y.to(device)\n",
    "            \n",
    "            y_hat=net(X)\n",
    "            l=loss(y_hat, y)\n",
    "            l.backward()\n",
    "            optimizer.step()\n",
    "            \n",
    "            with torch.no_grad(): # no_grad() is not necessary\n",
    "                metric.add(l*X.shape[0], d2l.accuracy(y_hat, y), X.shape[0])\n",
    "            timer.stop()\n",
    "            train_l=metric[0]/metric[2]\n",
    "            train_acc=metric[1]/metric[2]\n",
    "            if (i+1)%(num_batches//5)==0 or i==num_batches-1:\n",
    "                animator.add(epoch+(i+1)/num_batches, (train_l, train_acc, None))\n",
    "        test_acc = evaluate_accuracy_gpu(net, test_iter)\n",
    "        animator.add(epoch + 1, (None, None, test_acc))\n",
    "    print(f'loss {train_l:.3f}, train acc {train_acc:.3f}, '\n",
    "          f'test acc {test_acc:.3f}')\n",
    "    print(f'{metric[2] * num_epochs / timer.sum():.1f} examples/sec '\n",
    "          f'on {str(device)}')"
   ]
  },
  {
   "cell_type": "code",
   "execution_count": null,
   "id": "da8b65f5",
   "metadata": {},
   "outputs": [],
   "source": []
  },
  {
   "cell_type": "code",
   "execution_count": null,
   "id": "d08eb777",
   "metadata": {},
   "outputs": [],
   "source": []
  },
  {
   "cell_type": "code",
   "execution_count": null,
   "id": "edaba22d",
   "metadata": {},
   "outputs": [],
   "source": []
  }
 ],
 "metadata": {
  "kernelspec": {
   "display_name": "Python [conda env:pytorch] *",
   "language": "python",
   "name": "conda-env-pytorch-py"
  },
  "language_info": {
   "codemirror_mode": {
    "name": "ipython",
    "version": 3
   },
   "file_extension": ".py",
   "mimetype": "text/x-python",
   "name": "python",
   "nbconvert_exporter": "python",
   "pygments_lexer": "ipython3",
   "version": "3.9.7"
  }
 },
 "nbformat": 4,
 "nbformat_minor": 5
}
