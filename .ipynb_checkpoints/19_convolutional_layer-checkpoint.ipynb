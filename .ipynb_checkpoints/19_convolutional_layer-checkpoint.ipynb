{
 "cells": [
  {
   "cell_type": "code",
   "execution_count": 1,
   "id": "23940809",
   "metadata": {
    "ExecuteTime": {
     "end_time": "2021-11-05T03:37:16.730910Z",
     "start_time": "2021-11-05T03:37:15.598470Z"
    }
   },
   "outputs": [],
   "source": [
    "import torch\n",
    "from torch import nn\n",
    "from d2l import torch as d2l"
   ]
  },
  {
   "cell_type": "code",
   "execution_count": 2,
   "id": "ffcaf5b7",
   "metadata": {
    "ExecuteTime": {
     "end_time": "2021-11-05T03:40:00.861954Z",
     "start_time": "2021-11-05T03:40:00.855175Z"
    }
   },
   "outputs": [],
   "source": [
    "def corr2d(X, k):\n",
    "    '''It is a correlation computation--similiar to convolutional kernel'''\n",
    "    h, w = K.shape\n",
    "    Y = torch.zeros((X.shape[0]-h+1, X.shape[1]-w+1)) # result with step=1, no padding\n",
    "    for i in range(Y.shape[0]):\n",
    "        for j in range(Y.shape[1]):\n",
    "            Y[i, j] = (X[i:i+h, j:j+w]*K).sum() # here is bitwise multiplication\n",
    "    return Y"
   ]
  },
  {
   "cell_type": "code",
   "execution_count": 4,
   "id": "01b2eeae",
   "metadata": {
    "ExecuteTime": {
     "end_time": "2021-11-05T03:52:56.819230Z",
     "start_time": "2021-11-05T03:52:56.748305Z"
    }
   },
   "outputs": [
    {
     "data": {
      "text/plain": [
       "tensor([[19., 25.],\n",
       "        [37., 43.]])"
      ]
     },
     "execution_count": 4,
     "metadata": {},
     "output_type": "execute_result"
    }
   ],
   "source": [
    "X = torch.tensor([[0.,1.,2.],[3.,4.,5.],[6.,7.,8.]])\n",
    "K = torch.tensor([[0.,1.],[2.,3.]])\n",
    "corr2d(X, K)"
   ]
  },
  {
   "cell_type": "code",
   "execution_count": 5,
   "id": "302d7651",
   "metadata": {
    "ExecuteTime": {
     "end_time": "2021-11-05T03:55:23.151787Z",
     "start_time": "2021-11-05T03:55:23.141513Z"
    }
   },
   "outputs": [],
   "source": [
    "class Con2D(nn.Module):\n",
    "    def __init__(self, kernel_size):\n",
    "        super().__init__()\n",
    "        self.weight = nn.Parameter(torch.rand(kernel_size))\n",
    "        self.bias = nn.Parameter(torch.zeros(1))\n",
    "    def forward(self, x):\n",
    "        return corr2d(x, self.weight) + self.bias"
   ]
  },
  {
   "cell_type": "markdown",
   "id": "600e94d1",
   "metadata": {},
   "source": [
    "## Detect the edge"
   ]
  },
  {
   "cell_type": "code",
   "execution_count": 27,
   "id": "322800e9",
   "metadata": {
    "ExecuteTime": {
     "end_time": "2021-11-05T04:07:08.518128Z",
     "start_time": "2021-11-05T04:07:08.488461Z"
    }
   },
   "outputs": [
    {
     "data": {
      "text/plain": [
       "tensor([[1., 1., 1., 1., 1., 1., 1., 1.],\n",
       "        [1., 1., 0., 0., 0., 0., 1., 1.],\n",
       "        [1., 1., 0., 0., 0., 0., 1., 1.],\n",
       "        [1., 1., 0., 0., 0., 0., 1., 1.],\n",
       "        [1., 1., 1., 1., 1., 1., 1., 1.],\n",
       "        [1., 1., 1., 1., 1., 1., 1., 1.]])"
      ]
     },
     "execution_count": 27,
     "metadata": {},
     "output_type": "execute_result"
    }
   ],
   "source": [
    "X = torch.ones((6,8))\n",
    "X[1:4,2:6]=0\n",
    "X"
   ]
  },
  {
   "cell_type": "code",
   "execution_count": 28,
   "id": "05babd1e",
   "metadata": {
    "ExecuteTime": {
     "end_time": "2021-11-05T04:07:09.788072Z",
     "start_time": "2021-11-05T04:07:09.783537Z"
    }
   },
   "outputs": [],
   "source": [
    "K = torch.tensor([[1.,-1.]])"
   ]
  },
  {
   "cell_type": "code",
   "execution_count": 29,
   "id": "02db60fd",
   "metadata": {
    "ExecuteTime": {
     "end_time": "2021-11-05T04:07:10.816560Z",
     "start_time": "2021-11-05T04:07:10.809217Z"
    }
   },
   "outputs": [
    {
     "data": {
      "text/plain": [
       "tensor([[ 0.,  0.,  0.,  0.,  0.,  0.,  0.],\n",
       "        [ 0.,  1.,  0.,  0.,  0., -1.,  0.],\n",
       "        [ 0.,  1.,  0.,  0.,  0., -1.,  0.],\n",
       "        [ 0.,  1.,  0.,  0.,  0., -1.,  0.],\n",
       "        [ 0.,  0.,  0.,  0.,  0.,  0.,  0.],\n",
       "        [ 0.,  0.,  0.,  0.,  0.,  0.,  0.]])"
      ]
     },
     "execution_count": 29,
     "metadata": {},
     "output_type": "execute_result"
    }
   ],
   "source": [
    "Y = corr2d(X, K)\n",
    "Y"
   ]
  },
  {
   "cell_type": "markdown",
   "id": "e6fa1ec8",
   "metadata": {},
   "source": [
    "## Learn kernel"
   ]
  },
  {
   "cell_type": "code",
   "execution_count": 60,
   "id": "18f0227e",
   "metadata": {
    "ExecuteTime": {
     "end_time": "2021-11-05T04:09:45.050368Z",
     "start_time": "2021-11-05T04:09:44.934407Z"
    },
    "scrolled": true
   },
   "outputs": [
    {
     "name": "stdout",
     "output_type": "stream",
     "text": [
      "batch 2, loss 4.630\n",
      "batch 4, loss 2.424\n",
      "batch 6, loss 1.779\n",
      "batch 8, loss 1.319\n",
      "batch 10, loss 0.978\n",
      "batch 12, loss 0.726\n",
      "batch 14, loss 0.538\n",
      "batch 16, loss 0.399\n",
      "batch 18, loss 0.296\n",
      "batch 20, loss 0.220\n"
     ]
    }
   ],
   "source": [
    "conv2d = nn.Conv2d(1,1,kernel_size=(1,2),bias=False) # channel=1\n",
    "\n",
    "X = X.reshape((1,1,6,8)) # batch_size, channel, weight, height\n",
    "Y = Y.reshape((1,1,6,7))\n",
    "\n",
    "for i in range(20):\n",
    "    Y_hat = conv2d(X)\n",
    "    loss = (Y_hat-Y)**2\n",
    "    \n",
    "    conv2d.zero_grad()\n",
    "    loss.sum().backward()\n",
    "    conv2d.weight.data[:] -= 0.012*conv2d.weight.grad\n",
    "    if (i+1)%2==0:\n",
    "        print(f'batch {i+1}, loss {loss.sum():.3f}')"
   ]
  },
  {
   "cell_type": "code",
   "execution_count": null,
   "id": "7e0acc18",
   "metadata": {},
   "outputs": [],
   "source": []
  }
 ],
 "metadata": {
  "kernelspec": {
   "display_name": "Python [conda env:pytorch] *",
   "language": "python",
   "name": "conda-env-pytorch-py"
  },
  "language_info": {
   "codemirror_mode": {
    "name": "ipython",
    "version": 3
   },
   "file_extension": ".py",
   "mimetype": "text/x-python",
   "name": "python",
   "nbconvert_exporter": "python",
   "pygments_lexer": "ipython3",
   "version": "3.9.7"
  }
 },
 "nbformat": 4,
 "nbformat_minor": 5
}
