{
 "cells": [
  {
   "cell_type": "code",
   "execution_count": 2,
   "id": "ec8f3590",
   "metadata": {
    "ExecuteTime": {
     "end_time": "2021-11-10T01:32:33.955060Z",
     "start_time": "2021-11-10T01:32:33.952198Z"
    }
   },
   "outputs": [],
   "source": [
    "import torch\n",
    "from torch import nn\n",
    "from d2l import torch as d2l"
   ]
  },
  {
   "cell_type": "code",
   "execution_count": 6,
   "id": "9a451c5b",
   "metadata": {
    "ExecuteTime": {
     "end_time": "2021-11-10T01:39:08.599471Z",
     "start_time": "2021-11-10T01:39:08.595272Z"
    }
   },
   "outputs": [],
   "source": [
    "def nin_block(in_channels, out_channels, kernel_size, strides, padding):\n",
    "    return nn.Sequential(\n",
    "        nn.Conv2d(in_channels, out_channels, kernel_size, strides, padding), nn.ReLU(),\n",
    "        nn.Conv2d(out_channels, out_channels, kernel_size=1), nn.ReLU(),\n",
    "        nn.Conv2d(out_channels, out_channels, kernel_size=1), nn.ReLU())"
   ]
  },
  {
   "cell_type": "code",
   "execution_count": 12,
   "id": "1af7a0c9",
   "metadata": {
    "ExecuteTime": {
     "end_time": "2021-11-10T01:42:41.359762Z",
     "start_time": "2021-11-10T01:42:41.331471Z"
    }
   },
   "outputs": [],
   "source": [
    "net = nn.Sequential(\n",
    "    nin_block(1,96,kernel_size=11,strides=4,padding=4), nn.MaxPool2d(3,stride=2),\n",
    "    nin_block(96,256,kernel_size=5,strides=1,padding=2), nn.MaxPool2d(3,stride=2),\n",
    "    nin_block(256,384,kernel_size=3,strides=1,padding=1), nn.MaxPool2d(3,stride=2),\n",
    "    nn.Dropout(0.5),\n",
    "    nin_block(384,10,kernel_size=3,strides=1,padding=1),\n",
    "    nn.AdaptiveAvgPool2d((1,1)), # (1,1) is output_size, AdaptiveAvgPool2d will not change the #channels\n",
    "    nn.Flatten())"
   ]
  },
  {
   "cell_type": "code",
   "execution_count": 13,
   "id": "4d47d21a",
   "metadata": {
    "ExecuteTime": {
     "end_time": "2021-11-10T01:42:42.341784Z",
     "start_time": "2021-11-10T01:42:42.283622Z"
    }
   },
   "outputs": [
    {
     "name": "stdout",
     "output_type": "stream",
     "text": [
      "Sequential Output Shape:  torch.Size([1, 96, 56, 56])\n",
      "MaxPool2d Output Shape:  torch.Size([1, 96, 27, 27])\n",
      "Sequential Output Shape:  torch.Size([1, 256, 27, 27])\n",
      "MaxPool2d Output Shape:  torch.Size([1, 256, 13, 13])\n",
      "Sequential Output Shape:  torch.Size([1, 384, 13, 13])\n",
      "MaxPool2d Output Shape:  torch.Size([1, 384, 6, 6])\n",
      "Dropout Output Shape:  torch.Size([1, 384, 6, 6])\n",
      "Sequential Output Shape:  torch.Size([1, 10, 6, 6])\n",
      "AdaptiveAvgPool2d Output Shape:  torch.Size([1, 10, 1, 1])\n",
      "Flatten Output Shape:  torch.Size([1, 10])\n"
     ]
    }
   ],
   "source": [
    "X = torch.rand((1,1,224,224))\n",
    "for layer in net:\n",
    "    X = layer(X)\n",
    "    print(layer.__class__.__name__, 'Output Shape: ', X.shape)"
   ]
  },
  {
   "cell_type": "code",
   "execution_count": null,
   "id": "3b2a24bc",
   "metadata": {
    "ExecuteTime": {
     "start_time": "2021-11-10T01:46:09.380Z"
    }
   },
   "outputs": [
    {
     "name": "stdout",
     "output_type": "stream",
     "text": [
      "training on cpu\n"
     ]
    }
   ],
   "source": [
    "lr, num_epochs, batch_size = 0.1, 8, 256\n",
    "train_iter, test_iter = d2l.load_data_fashion_mnist(batch_size, resize=224)\n",
    "\n",
    "d2l.train_ch6(net, train_iter, test_iter, num_epochs, lr, d2l.try_gpu())"
   ]
  }
 ],
 "metadata": {
  "kernelspec": {
   "display_name": "Python [conda env:pytorch] *",
   "language": "python",
   "name": "conda-env-pytorch-py"
  },
  "language_info": {
   "codemirror_mode": {
    "name": "ipython",
    "version": 3
   },
   "file_extension": ".py",
   "mimetype": "text/x-python",
   "name": "python",
   "nbconvert_exporter": "python",
   "pygments_lexer": "ipython3",
   "version": "3.9.7"
  }
 },
 "nbformat": 4,
 "nbformat_minor": 5
}
